{
 "cells": [
  {
   "cell_type": "markdown",
   "metadata": {},
   "source": [
    "# <center>MNIST - Multiclass Classification of the MNIST digits dataset with a MLP using Tensorflow and Keras</center>\n",
    "<center><img src=\"keras-tensorflow-logo.jpg\"></center>\n",
    "\n",
    "In this notebook, we will illustrate multi-class classification for the [MNIST dataset](http://yann.lecun.com/exdb/mnist/) using a Multilayer Perceptron (MLP) (or ANN). \n",
    "\n",
    "The MNIST dataset is an image dataset of handwritten digits. It has has 60,000 training images and 10,000 test images, each of which are grayscale 28 x 28 pixels. It is a good beginner's dataset to try learning techniques and pattern recognition methods on real-world data while spending minimal efforts on preprocessing and formatting.\n",
    "\n",
    "In this notebook we will first develop a MLP using Tensorflow & then the same architecture will be developed using Keras (running with Tensorflow backend). I expect to see similar performance out of both networks."
   ]
  },
  {
   "cell_type": "code",
   "execution_count": 31,
   "metadata": {},
   "outputs": [],
   "source": [
    "%reload_ext autoreload\n",
    "%autoreload 2\n",
    "\n",
    "# imports & tweaks\n",
    "import numpy as np\n",
    "import matplotlib.pyplot as plt\n",
    "import seaborn as sns\n",
    "import sys, time\n",
    "\n",
    "# tweaks for numpy & plotting libraries\n",
    "float_formatter = lambda x: '%.4f' % x\n",
    "np.set_printoptions(formatter={'float_kind':float_formatter})\n",
    "np.set_printoptions(threshold=np.inf, suppress=True, precision=4, linewidth=2048)\n",
    "\n",
    "plt.style.use(\"seaborn-colorblind\")\n",
    "plt.rcParams[\"figure.figsize\"] = (8, 6)\n",
    "sns.set_style(\"darkgrid\")\n",
    "#sns.set_context(\"talk\")\n",
    "sns.set_context(context='notebook', font_scale=1.25)\n",
    "sns.set_style({\"font.sans-serif\": [\"Verdana\", \"Arial\", \"Calibri\", \"DejaVu Sans\"]})\n",
    "\n",
    "# NOTE: Always use a seed for random number generators, so you get same results across runs\n",
    "# you can use any number as the seed \n",
    "seed = 101\n",
    "np.random.seed(seed)"
   ]
  },
  {
   "cell_type": "markdown",
   "metadata": {},
   "source": [
    "## Loading & Pre-processing the Images\n",
    "We will load the images from the `keras.datasets.mnist` package, using the `load_data()` function. Keras ships with several datasets, like MNIST, Fashion, CIFAR-10 etc., which we can leverage for learning ML techniques.\n",
    "\n",
    "The following pre-processing steps will be applied:\n",
    "* The image data (X's) will be converted to floats & scaled to values between 0.0 & 1.0\n",
    "* The labels (y's) will be one-hot encoded to width of 10 (as we have 10 output classes corresponding to digits 0-9)\n",
    "* The training set (`X_train, y_train`) will be shuffled & split into training & cross-validation sets using an 80:20 split - we have 60,000 training examples, which will be split into two sets of 48,000 and 12,000 images &amp; labels. \n",
    "* The images & label arrays will be appropriately reshaped - `images -> (num_samples, num_features)`, `labels -> (num_samples, num_classes)`\n",
    "* We will also keep a copy of the test images & labels (i.e. of `X_test & y_test`) _before_ any preprocessing is applied. This is to help with data visualization of the _'original dataset'_."
   ]
  },
  {
   "cell_type": "code",
   "execution_count": 32,
   "metadata": {},
   "outputs": [],
   "source": [
    "def load_and_preprocess_data(debug=False):\n",
    "    from keras.datasets.mnist import load_data\n",
    "    from keras.utils import to_categorical\n",
    "    \n",
    "    (X_train, y_train), (X_test, y_test) = load_data()\n",
    "    # keep an non pre-processed copy of X_test/y_test for visualization\n",
    "    test_images, test_labels = X_test.copy(), y_test.copy()\n",
    "    \n",
    "    if debug:\n",
    "        print('Before preprocessing:')\n",
    "        print(' - X_train.shape = {}, y_train.shape = {}'.format(X_train.shape, y_train.shape))\n",
    "        print(' - X_test.shape = {}, y_test.shape = {}'.format(X_test.shape, y_test.shape))\n",
    "        print(' - test_images.shape = {}, test_labels.shape = {}'.format(test_images.shape, test_labels.shape))\n",
    "\n",
    "    # scale the images to between 0-1 & one-hot encode labels to 10 output classes corresponding to digits 0-9\n",
    "    X_train = X_train.astype('float32') / 255.0\n",
    "    X_test = X_test.astype('float32') / 255.0\n",
    "    y_train = to_categorical(y_train, 10) \n",
    "    y_test = to_categorical(y_test, 10)\n",
    "    \n",
    "    # split the training set into test & cross-validation set (80:20 ratio)\n",
    "    indexes = np.arange(X_train.shape[0])\n",
    "    for _ in range(5): indexes = np.random.permutation(indexes)  # shuffle 5 times!\n",
    "    X_train = X_train[indexes]\n",
    "    y_train = y_train[indexes]\n",
    "    val_count = int(0.20 * X_train.shape[0])\n",
    "    X_val = X_train[:val_count]\n",
    "    y_val = y_train[:val_count]\n",
    "    X_train = X_train[val_count:]\n",
    "    y_train = y_train[val_count:]\n",
    "    \n",
    "    # reshape the image arrays (make 2D arrays instead of 3D arrays)\n",
    "    X_train = np.reshape(X_train, (X_train.shape[0], X_train.shape[1] * X_train.shape[2]))\n",
    "    X_val = np.reshape(X_val, (X_val.shape[0], X_val.shape[1] * X_val.shape[2]))\n",
    "    X_test = np.reshape(X_test, (X_test.shape[0], X_test.shape[1] * X_test.shape[2]))\n",
    "    return (X_train, y_train), (X_val, y_val), (X_test, y_test), (test_images, test_labels)"
   ]
  },
  {
   "cell_type": "code",
   "execution_count": 33,
   "metadata": {},
   "outputs": [],
   "source": [
    "def display_sample(sample_images, sample_labels, sample_predictions=None,\n",
    "                   num_rows=5, num_cols=10, plot_title=None, fig_size=None):\n",
    "    \"\"\" display a random selection of images & corresponding labels, optionally with predictions \n",
    "        The display is laid out in a grid of num_rows x num_col cells\n",
    "        If sample_predictions are provided, then each cell's title displays the prediction (if it matches actual)\n",
    "        or actual/prediction if there is a mismatch\n",
    "    \"\"\"\n",
    "    assert sample_images.shape[0] == num_rows * num_cols\n",
    "    \n",
    "    with sns.axes_style(\"whitegrid\"):\n",
    "        sns.set_context(\"notebook\", font_scale=1.1)\n",
    "        sns.set_style({\"font.sans-serif\": [\"Verdana\", \"Arial\", \"Calibri\", \"DejaVu Sans\"]})\n",
    "\n",
    "        f, ax = plt.subplots(num_rows,num_cols,figsize=((14, 9) if fig_size is None else fig_size),\n",
    "            gridspec_kw={\"wspace\": 0.02, \"hspace\": 0.30}, squeeze=True)\n",
    "\n",
    "        for r in range(num_rows):\n",
    "            for c in range(num_cols):\n",
    "                image_index = r * num_cols + c\n",
    "                ax[r, c].axis(\"off\")\n",
    "                # show selected image\n",
    "                ax[r, c].imshow(sample_images[image_index], cmap=\"gray\")\n",
    "\n",
    "                if sample_predictions is None:\n",
    "                    # show the actual labels in the cell title\n",
    "                    title = ax[r, c].set_title(\"%s\" % sample_labels[image_index])\n",
    "                else:\n",
    "                    # else check if prediction matches actual value\n",
    "                    true_label = sample_labels[image_index]\n",
    "                    pred_label = sample_predictions[image_index]\n",
    "                    prediction_matches_true = (sample_labels[image_index] == sample_predictions[image_index])\n",
    "                    if prediction_matches_true:\n",
    "                        # if actual == prediction, cell title is prediction shown in green font\n",
    "                        title = true_label\n",
    "                        title_color = 'g'\n",
    "                    else:\n",
    "                        # if actual != prediction, cell title is actua/prediction in red font\n",
    "                        title = '%s/%s' % (true_label, pred_label)\n",
    "                        title_color = 'r'\n",
    "                    # display cell title\n",
    "                    title = ax[r, c].set_title(title)\n",
    "                    plt.setp(title, color=title_color)\n",
    "        # set plot title, if one specified\n",
    "        if plot_title is not None: f.suptitle(plot_title)\n",
    "    \n",
    "        plt.show()\n",
    "        plt.close()"
   ]
  },
  {
   "cell_type": "code",
   "execution_count": 34,
   "metadata": {},
   "outputs": [
    {
     "name": "stdout",
     "output_type": "stream",
     "text": [
      "Before preprocessing:\n",
      " - X_train.shape = (60000, 28, 28), y_train.shape = (60000,)\n",
      " - X_test.shape = (10000, 28, 28), y_test.shape = (10000,)\n",
      " - test_images.shape = (10000, 28, 28), test_labels.shape = (10000,)\n",
      "After preprocessing: \n",
      " - X_train.shape = (48000, 784), y_train.shape = (48000, 10)\n",
      " - X_val.shape = (12000, 784), y_val.shape = (12000, 10)\n",
      " - X_test.shape = (10000, 784), y_test.shape = (10000, 10)\n",
      " - test_images.shape = (10000, 28, 28), test_labels.shape = (10000,)\n"
     ]
    }
   ],
   "source": [
    "(X_train, y_train), (X_val, y_val), (X_test, y_test), (test_images, test_labels) = \\\n",
    "    load_and_preprocess_data(debug=True)\n",
    "print('After preprocessing: ')\n",
    "print(' - X_train.shape = {}, y_train.shape = {}'.format(X_train.shape, y_train.shape))\n",
    "print(' - X_val.shape = {}, y_val.shape = {}'.format(X_val.shape, y_val.shape))\n",
    "print(' - X_test.shape = {}, y_test.shape = {}'.format(X_test.shape, y_test.shape))\n",
    "print(' - test_images.shape = {}, test_labels.shape = {}'.format(test_images.shape, test_labels.shape))"
   ]
  },
  {
   "cell_type": "code",
   "execution_count": null,
   "metadata": {},
   "outputs": [
    {
     "name": "stdout",
     "output_type": "stream",
     "text": [
      "Displaying a random sample of 50 images from dataset\n"
     ]
    },
    {
     "data": {
      "image/png": "[encoded data removed]",
      "text/plain": [
       "<Figure size 1008x648 with 50 Axes>"
      ]
     },
     "metadata": {},
     "output_type": "display_data"
    }
   ],
   "source": [
    "# display a random sample of 50 digits\n",
    "sample_size = 50\n",
    "print('Displaying a random sample of {} images from dataset'.format(sample_size))\n",
    "indexes = np.random.randint(0, test_images.shape[0], sample_size)\n",
    "sample_images, sample_labels = test_images[indexes], test_labels[indexes]\n",
    "display_sample(sample_images, sample_labels, sample_predictions=None, \n",
    "               num_rows=5, num_cols=10, plot_title=\"Random Sample of {} digit images\".format(sample_size))"
   ]
  },
  {
   "cell_type": "code",
   "execution_count": null,
   "metadata": {},
   "outputs": [],
   "source": [
    "# set some globals, which will be used across Tensorflow & Keras models\n",
    "IMAGE_HEIGHT, IMAGE_WIDTH, IMAGE_SIZE, NUM_CLASSES = 28, 28, 28*28, 10\n",
    "MODEL_DIR, TF_MODEL_NAME, KR_MODEL_NAME = './model_states', 'tf_MNIST_mlp', 'kr_MNIST_mlp'\n",
    "# the layout of our MLP\n",
    "LAYER_DIMS = [IMAGE_HEIGHT * IMAGE_WIDTH, 512, 128, NUM_CLASSES]\n",
    "# training parameters\n",
    "NUM_EPOCHS, BATCH_SIZE = 50, 128\n",
    "# for loading & saving model state\n",
    "MODEL_SAVE_DIR, TF_MODEL_NAME, KR_MODEL_NAME = './model_states', 'tf_MNIST_mlp', 'kr_MNIST_mlp'"
   ]
  },
  {
   "cell_type": "markdown",
   "metadata": {},
   "source": [
    "## Tensorflow Implementation\n",
    "In this section, we will develop the MLP using Tensorflow. We have developed several utility functions to help with model development - training, evaluation, loading & saving model state, predictions. These functions are available in the Python code file `tf_nn_helper.py`, which is imported into this workbook.\n",
    "\n",
    "### Building the Tensorflow Model\n",
    "Our MLP is a 4 layer network (including the input & output layers) - we have 2 hidden layers with 512 & 128 nodes each. The input layer will have IMAGE_HEIGHT * IMAGE_WIDTH (i.e. 28 * 28) nodes, while the output layer will have 10 nodes (= to the number of output classes). We have defined a list LAYER_DIMS above, which holds the dimensions of each layer."
   ]
  },
  {
   "cell_type": "code",
   "execution_count": null,
   "metadata": {},
   "outputs": [],
   "source": [
    "import tensorflow as tf\n",
    "tf.set_random_seed(seed)\n",
    "import tf_nn_helper as tfu # Tensorflow utility functions for creating/training/evaluating/loading & saving TF models"
   ]
  },
  {
   "cell_type": "code",
   "execution_count": null,
   "metadata": {},
   "outputs": [],
   "source": [
    "def initialize_parameters(layer_dims, debug=False):\n",
    "    \"\"\" build the weights & biases for the network based on layout in LAYER_DIMS \"\"\"\n",
    "    weights, biases = {}, {}\n",
    "    L = len(layer_dims)\n",
    "    for l in range(1, L):\n",
    "        weights['W' + str(l)] = tf.get_variable('W' + str(l),\n",
    "                                                dtype=tf.float32,\n",
    "                                                shape=(layer_dims[l-1], layer_dims[l]),\n",
    "                                                initializer=tf.contrib.layers.xavier_initializer())\n",
    "        biases['b' + str(l)] = tf.get_variable('b' + str(l),\n",
    "                                                dtype=tf.float32,\n",
    "                                                shape=(1, layer_dims[l]),\n",
    "                                                initializer=tf.zeros_initializer())  \n",
    "        \n",
    "    if debug:\n",
    "        # display weights & biases\n",
    "        for i, w in enumerate(weights):\n",
    "            print('weights[W{}] = {}'.format(i, weights['W' + str(i+1)]))\n",
    "            print('biases[b{}] = {}'.format(i, biases['b' + str(i+1)]), flush=True)\n",
    "    return weights, biases"
   ]
  },
  {
   "cell_type": "code",
   "execution_count": null,
   "metadata": {},
   "outputs": [],
   "source": [
    "def build_tf_model(X, y, kp, layer_dims, debug=False):\n",
    "    \n",
    "    def build_tf_nn(A0, weights, biases):\n",
    "        \"\"\" builds the network layers \"\"\"\n",
    "        A_prev = A0\n",
    "        L = len(weights)\n",
    "        for l in range(1, L):\n",
    "            W, b = weights['W' + str(l)], biases['b' + str(l)]\n",
    "            A = tfu.dense(A_prev, W, b, activation='relu', batch_normalize=False)\n",
    "            A = tf.nn.dropout(A, keep_prob=kp)\n",
    "            A_prev = A\n",
    "        # output layer - this will have softmax activation for multi-class classification\n",
    "        W, b = weights['W' + str(L)], biases['b' + str(L)]\n",
    "        out = tfu.dense(A_prev, W, b, activation='softmax', batch_normalize=False)\n",
    "        out = tfu.add_name_to_tensor(out, name='out')\n",
    "        return out\n",
    "    \n",
    "    weights, biases = initialize_parameters(layer_dims, debug=debug)\n",
    "    # our network tensors\n",
    "    out = build_tf_nn(X, weights, biases)\n",
    "    loss = tf.reduce_mean(tf.nn.softmax_cross_entropy_with_logits_v2(labels=y, logits=out), name='loss')\n",
    "    optimizer = tf.train.AdamOptimizer(learning_rate=0.001)\n",
    "    train_op = optimizer.minimize(loss, name='train_op')\n",
    "    correct_prediction = tf.equal(tf.argmax(out,axis=1), tf.argmax(y, axis=1))\n",
    "    tfu.add_name_to_tensor(correct_prediction, 'correct_prediction')\n",
    "    accuracy = tf.reduce_mean(tf.cast(correct_prediction, tf.float32), name='acc')\n",
    "    \n",
    "  #  now collect all these tensors & operators into a dict, which we can conveniently pass around\n",
    "  #  to the various utility functions we have created above\n",
    "  #  NOTE: keys of the dicts must be names EXACTLY as shown below, else the helper functions won't work.\n",
    "    model = {}\n",
    "    #model['weights'] = weights\n",
    "    #model['biases'] = biases\n",
    "    model['out'] = out\n",
    "    model['loss'] = loss\n",
    "    #model['optimizer'] = optimizer\n",
    "    model['train_op'] = train_op\n",
    "    model['correct_prediction'] = correct_prediction\n",
    "    model['accuracy'] = accuracy\n",
    "    return model      "
   ]
  },
  {
   "cell_type": "code",
   "execution_count": null,
   "metadata": {},
   "outputs": [],
   "source": [
    "def load_tf_model(sess, base_file_name='network', model_path='./model_states'):\n",
    "    # following call will raise exception if it fails!\n",
    "    tf_graph = tfu.load_tf_model(sess, base_file_name, model_path)\n",
    "    \n",
    "    # restore elements from graph\n",
    "    X = tf_graph.get_tensor_by_name(\"X:0\")\n",
    "    y = tf_graph.get_tensor_by_name(\"y:0\")\n",
    "    kp = tf_graph.get_tensor_by_name(\"keep_prob:0\")\n",
    "\n",
    "    # restore model dict\n",
    "    model = {}\n",
    "    model['out'] = tf_graph.get_tensor_by_name(\"out:0\")\n",
    "    model['loss'] = tf_graph.get_tensor_by_name(\"loss:0\")\n",
    "    #model['optimizer'] = optimizer\n",
    "    model['train_op'] = tf_graph.get_operation_by_name(\"train_op\")\n",
    "    model['correct_prediction'] = tf_graph.get_tensor_by_name(\"correct_prediction:0\")\n",
    "    model['accuracy'] = tf_graph.get_tensor_by_name(\"acc:0\")\n",
    "    return model, X, y, kp"
   ]
  },
  {
   "cell_type": "markdown",
   "metadata": {},
   "source": [
    "### Training our Tensorflow Model\n",
    "We will train our Tensorflow model through 50 epochs, using a batch size of 128. But we first need to create placeholders."
   ]
  },
  {
   "cell_type": "code",
   "execution_count": null,
   "metadata": {},
   "outputs": [],
   "source": [
    "def create_placeholders(debug=False):\n",
    "    # NOTE: tf_nn_helper expects 2 place holders with name \"X\" and \"y\"\n",
    "    # which is used to pass data to our model during training & evaluation\n",
    "    X = tf.placeholder(dtype=tf.float32, name=\"X\", shape=(None, IMAGE_HEIGHT * IMAGE_WIDTH))\n",
    "    y = tf.placeholder(dtype=tf.float32, name=\"y\", shape=(None, NUM_CLASSES))\n",
    "    kp = tf.placeholder(dtype=tf.float32, name='keep_prob')\n",
    "    if debug: print('Placeholders: X = {}, y = {}, kp={}'.format(X, y, kp), flush=True)\n",
    "    return X, y, kp"
   ]
  },
  {
   "cell_type": "code",
   "execution_count": null,
   "metadata": {},
   "outputs": [
    {
     "name": "stdout",
     "output_type": "stream",
     "text": [
      "{'out': <tf.Tensor 'out:0' shape=(?, 10) dtype=float32>, 'loss': <tf.Tensor 'loss:0' shape=() dtype=float32>, 'train_op': <tf.Operation 'train_op' type=NoOp>, 'correct_prediction': <tf.Tensor 'Equal:0' shape=(?,) dtype=bool>, 'accuracy': <tf.Tensor 'acc:0' shape=() dtype=float32>}\n"
     ]
    }
   ],
   "source": [
    "# build the model\n",
    "tf.reset_default_graph()\n",
    "X, y, kp = create_placeholders()\n",
    "tf_model = build_tf_model(X, y, kp, LAYER_DIMS)\n",
    "print(tf_model)"
   ]
  },
  {
   "cell_type": "code",
   "execution_count": null,
   "metadata": {},
   "outputs": [
    {
     "name": "stdout",
     "output_type": "stream",
     "text": [
      "Train on 48000 samples, validate with 12000 samples. Train for 50 epochs, with 376 batches per epoch.\n",
      "Epoch 1/50:\n",
      "  Training : Batch (192/375) [==============>...............] -> ETA: 4s - loss: 1.5313 - acc: 0.9453           "
     ]
    }
   ],
   "source": [
    "# train our model\n",
    "sess = tf.Session()\n",
    "sess.run(tf.global_variables_initializer())\n",
    "\n",
    "# def train_model(sess, model, data, labels, feed_dict=None, num_epochs=10, batch_size=32,\n",
    "#                 validation_split=None, validation_data=None)\n",
    "start_time = time.time()\n",
    "feed_dict_train = {kp:(1.0-0.25)} # just pass in the keep probability placeholders\n",
    "history = tfu.train_model(sess, tf_model, data=X_train, labels=y_train, feed_dict=feed_dict_train, \n",
    "                          num_epochs=NUM_EPOCHS, batch_size=BATCH_SIZE, validation_data=(X_val, y_val))\n",
    "end_time = time.time()\n",
    "print('Trahttp://localhost:8892/notebooks/learning-ml/dl-tensorflow/MNIST%20-%20Multiclass%20Classification%20-%20MLP%20-%20with%20Tensorflow%20%26%20Keras.ipynb#ining completed in {}'.format(tfu.time_taken_as_str(start_time, end_time)))"
   ]
  },
  {
   "cell_type": "code",
   "execution_count": null,
   "metadata": {},
   "outputs": [],
   "source": [
    "tfu.show_plots(history)"
   ]
  },
  {
   "cell_type": "markdown",
   "metadata": {},
   "source": [
    "### Evaluating performance of Tensorflow model\n",
    "Let's evaluate performance of our model on training, cross-validation & test data."
   ]
  },
  {
   "cell_type": "code",
   "execution_count": null,
   "metadata": {},
   "outputs": [],
   "source": [
    "print('Evaluating performance:')\n",
    "feed_dict_eval = {kp:(1.0)} # NO droput during evaluation!!\n",
    "loss, acc = tfu.evaluate_model(sess, tf_model, X_train, y_train, feed_dict=feed_dict_eval, batch_size=BATCH_SIZE)\n",
    "print(' - Training dataset: loss = {:.4f}, accuracy = {:.4f}'.format(loss, acc))\n",
    "\n",
    "loss, acc = tfu.evaluate_model(sess, tf_model, X_val, y_val, feed_dict=feed_dict_eval, batch_size=BATCH_SIZE)\n",
    "print(' - Cross-validation dataset: loss = {:.4f}, accuracy = {:.4f}'.format(loss, acc))\n",
    "\n",
    "loss, acc = tfu.evaluate_model(sess, tf_model, X_test, y_test, feed_dict=feed_dict_eval, batch_size=BATCH_SIZE)\n",
    "print(' - Test dataset: loss = {:.4f}, accuracy = {:.4f}'.format(loss, acc))"
   ]
  },
  {
   "cell_type": "markdown",
   "metadata": {},
   "source": [
    "**Observations for Tensorflow Model:**\n",
    "* We get a `training accuracy = 99.5%`, a `cross-validation accuracy = ~98%` and a `test accuracy = ~98%` with this model.\n",
    "* Since the difference between training & cross-validation accuracy is not much, we can conclude the thet model is not overfitting the data much (only slightly!)\n",
    "* The test accuracy is fairly good."
   ]
  },
  {
   "cell_type": "code",
   "execution_count": null,
   "metadata": {},
   "outputs": [],
   "source": [
    "# save the model state & close session\n",
    "tfu.save_tf_model(sess, base_file_name=TF_MODEL_NAME, model_path=MODEL_SAVE_DIR)\n",
    "del tf_model\n",
    "sess.close()"
   ]
  },
  {
   "cell_type": "markdown",
   "metadata": {},
   "source": [
    "### Making Predictions with the Tensorflow Model\n",
    "Next we will run predictions with our Tensorflow model & view some random results. \n",
    "\n",
    "NOTE: Model structure (graph) & state (parameters) will be loaded from last saved state."
   ]
  },
  {
   "cell_type": "code",
   "execution_count": null,
   "metadata": {},
   "outputs": [],
   "source": [
    "tf.reset_default_graph()\n",
    "sess = tf.Session()\n",
    "tf_model, X, y, kp = load_tf_model(sess, base_file_name=TF_MODEL_NAME, model_path=MODEL_SAVE_DIR)\n",
    "print('Loaded model')\n",
    "print(tf_model)"
   ]
  },
  {
   "cell_type": "code",
   "execution_count": null,
   "metadata": {},
   "outputs": [],
   "source": [
    "# this is the ground truth (reverse one-hot encode of test data)\n",
    "y_true = np.argmax(y_test, axis=1)\n",
    "y_true[:30]"
   ]
  },
  {
   "cell_type": "code",
   "execution_count": null,
   "metadata": {},
   "outputs": [],
   "source": [
    "feed_dict_eval = {kp:(1.0)} # NO droput during evaluation!!\n",
    "predictions = tfu.predict(sess, tf_model, X_test, feed_dict=feed_dict_eval) # no dropouts when running predictions\n",
    "# reverse one-hot encode the predictions\n",
    "y_pred = np.argmax(predictions, axis=1)\n",
    "y_pred[:30]"
   ]
  },
  {
   "cell_type": "code",
   "execution_count": null,
   "metadata": {},
   "outputs": [],
   "source": [
    "# display a random sample of 50 digits with predictions\n",
    "# NOTE: the title of each cell shows the predicted value in green if prediction matches actual\n",
    "# else cell title shows actual/predicted value in red font\n",
    "sample_size = 50\n",
    "print('Displaying a random sample of {} images from dataset'.format(sample_size))\n",
    "indexes = np.random.randint(0, test_images.shape[0], sample_size)\n",
    "sample_images, sample_labels, sample_predictions = test_images[indexes], test_labels[indexes], y_pred[indexes]\n",
    "display_sample(sample_images, sample_labels, sample_predictions=sample_predictions, \n",
    "               num_rows=5, num_cols=10, \n",
    "               plot_title=\"Tensorflow - actual vs predicted - for random sample of {} images\".format(sample_size))"
   ]
  },
  {
   "cell_type": "code",
   "execution_count": null,
   "metadata": {},
   "outputs": [],
   "source": [
    "# close the Tensorflow session\n",
    "sess.close()"
   ]
  },
  {
   "cell_type": "markdown",
   "metadata": {},
   "source": [
    "## Keras Implementation\n",
    "In this section, we will develop the same model using the Keras API. You will notice immediately that the code written in this section is much less & much cleaner. Keras takes care of most of the details we covered above."
   ]
  },
  {
   "cell_type": "code",
   "execution_count": null,
   "metadata": {},
   "outputs": [],
   "source": [
    "import keras.backend as K\n",
    "from keras.models import Sequential\n",
    "from keras.layers import Dense, Dropout\n",
    "from keras import optimizers\n",
    "import kr_helper_funcs as kru\n",
    "\n",
    "# clear the Tensorflow backend to get rid of any spurious graphs\n",
    "K.clear_session()"
   ]
  },
  {
   "cell_type": "code",
   "execution_count": null,
   "metadata": {},
   "outputs": [],
   "source": [
    "def build_keras_model(layer_dims):\n",
    "    model = Sequential()\n",
    "    model.add(Dense(layer_dims[1], activation='relu', input_shape=(layer_dims[0],)))\n",
    "    model.add(Dropout(0.25))\n",
    "    model.add(Dense(layer_dims[2], activation='relu'))\n",
    "    model.add(Dropout(0.25))\n",
    "    # output is softmax\n",
    "    model.add(Dense(layer_dims[3], activation='softmax'))\n",
    "    adam = optimizers.Adam(lr=0.001)\n",
    "    model.compile(optimizer=adam, loss='categorical_crossentropy', metrics=['acc'])\n",
    "    return model"
   ]
  },
  {
   "cell_type": "code",
   "execution_count": null,
   "metadata": {},
   "outputs": [],
   "source": [
    "kr_model = build_keras_model(LAYER_DIMS)\n",
    "print(kr_model.summary())"
   ]
  },
  {
   "cell_type": "code",
   "execution_count": null,
   "metadata": {},
   "outputs": [],
   "source": [
    "# train the model\n",
    "history = kr_model.fit(X_train, y_train, epochs=NUM_EPOCHS, batch_size=BATCH_SIZE, validation_data=(X_val, y_val))"
   ]
  },
  {
   "cell_type": "code",
   "execution_count": null,
   "metadata": {},
   "outputs": [],
   "source": [
    "# display plots of loss & accuracies\n",
    "kru.show_plots(history.history)"
   ]
  },
  {
   "cell_type": "code",
   "execution_count": null,
   "metadata": {},
   "outputs": [],
   "source": [
    "# evaluate performance against train/cross-val & test data\n",
    "print('Evaluating performance of Keras model:')\n",
    "loss, acc = kr_model.evaluate(X_train, y_train, batch_size=BATCH_SIZE)\n",
    "print(' - Training dataset: loss = {:.4f}, accuracy = {:.4f}'.format(loss, acc))\n",
    "\n",
    "loss, acc = kr_model.evaluate(X_val, y_val, batch_size=BATCH_SIZE)\n",
    "print(' - Cross-validation dataset: loss = {:.4f}, accuracy = {:.4f}'.format(loss, acc))\n",
    "\n",
    "loss, acc = kr_model.evaluate(X_test, y_test, batch_size=BATCH_SIZE)\n",
    "print(' - Test dataset: loss = {:.4f}, accuracy = {:.4f}'.format(loss, acc))"
   ]
  },
  {
   "cell_type": "markdown",
   "metadata": {},
   "source": [
    "**Observations for Keras Model:**\n",
    "* We get a `training accuracy = 99.95 %`, a `cross-validation accuracy = ~98%` and a `test accuracy = ~98%` with this model. **These are similar to Tensorflow model performance! **\n",
    "* Since the difference between training & cross-validation accuracy is not much, we can conclude the thet model is not overfitting the data much (only slightly!)\n",
    "* The test accuracy is fairly good.\n",
    "\n",
    "### Making Predictions with the Keras Model\n",
    "Next we will run predictions with our Tensorflow model & view some random results."
   ]
  },
  {
   "cell_type": "code",
   "execution_count": null,
   "metadata": {},
   "outputs": [],
   "source": [
    "# this is the ground truth (reverse one-hot encode of test data)\n",
    "y_true = np.argmax(y_test, axis=1)\n",
    "y_true[:30]"
   ]
  },
  {
   "cell_type": "code",
   "execution_count": null,
   "metadata": {},
   "outputs": [],
   "source": [
    "predictions = kr_model.predict(X_test)\n",
    "# reverse one-hot encode the predictions\n",
    "y_pred = np.argmax(predictions, axis=1)\n",
    "y_pred[:30]"
   ]
  },
  {
   "cell_type": "code",
   "execution_count": null,
   "metadata": {},
   "outputs": [],
   "source": [
    "# display a random sample of 50 digits with predictions\n",
    "# NOTE: the title of each cell shows the predicted value in green if prediction matches actual\n",
    "# else cell title shows actual/predicted value in red font\n",
    "sample_size = 50\n",
    "print('Displaying a random sample of {} images from dataset'.format(sample_size))\n",
    "indexes = np.random.randint(0, test_images.shape[0], sample_size)\n",
    "sample_images, sample_labels, sample_predictions = test_images[indexes], test_labels[indexes], y_pred[indexes]\n",
    "display_sample(sample_images, sample_labels, sample_predictions=sample_predictions, \n",
    "               num_rows=5, num_cols=10, \n",
    "               plot_title=\"Keras - actual vs predicted - for random sample of {} images\".format(sample_size))"
   ]
  },
  {
   "cell_type": "markdown",
   "metadata": {},
   "source": [
    "# <center> -- END -- </center>"
   ]
  },
  {
   "cell_type": "code",
   "execution_count": null,
   "metadata": {},
   "outputs": [],
   "source": []
  }
 ],
 "metadata": {
  "kernelspec": {
   "display_name": "Python 3",
   "language": "python",
   "name": "python3"
  },
  "language_info": {
   "codemirror_mode": {
    "name": "ipython",
    "version": 3
   },
   "file_extension": ".py",
   "mimetype": "text/x-python",
   "name": "python",
   "nbconvert_exporter": "python",
   "pygments_lexer": "ipython3",
   "version": "3.7.2"
  }
 },
 "nbformat": 4,
 "nbformat_minor": 2
}
