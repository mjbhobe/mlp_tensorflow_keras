{
 "cells": [
  {
   "cell_type": "markdown",
   "metadata": {},
   "source": [
    "# <center>IRIS - Multiclass Classification with Tensorflow and Keras using a Multilayer Perceptron (MLP)</center>\n",
    "<center><img src=\"keras-tensorflow-logo.jpg\"></center>\n",
    "\n",
    "In this notebook, **we will illustrate multi-class classification of the IRIS dataset using a Multilayer Perceptron (MLP) (also called an ANN).** This dataset will be downloaded from the [UCI Machine Learning Repository](https://archive.ics.uci.edu/ml/machine-learning-databases/iris/iris.data)\n",
    "\n",
    "The IRIS dataset is a popular dataset, used in several examples with the `scikit-learn` library. The dataset had 150 records for 3 Iris flower species (Iris-setosa, Iris-versicolor and Iris-virginica). Each species is classified using 4 features - sepal length, sepal width, petal length and petal width. There are 50 records per species of flower. A complete description of the dataset is provided [here](https://archive.ics.uci.edu/ml/datasets/iris). \n",
    "\n",
    "**NOTE:** Strictly speaking, we need not use deep-learning techniques for classification of such simple, structured datasets. Traditional techniques (i.e. classifiers from the `scikit-learn` library) should suffice. However, using such a dataset serves as a good starter point for someone coming over to deep learning from a traditional machine learning background, where they have been using `scikit-learn` and `XGBoost` libraries.\n",
    "\n",
    "In this notebook we will first develop a MLP using Tensorflow. Thereafter the same network architecture will be developed using Keras (running with Tensorflow backend). I expect to see similar performance out of both networks."
   ]
  },
  {
   "cell_type": "code",
   "execution_count": 1,
   "metadata": {},
   "outputs": [],
   "source": [
    "%reload_ext autoreload\n",
    "%autoreload 2\n",
    "\n",
    "# imports & tweaks\n",
    "import numpy as np\n",
    "import matplotlib.pyplot as plt\n",
    "import seaborn as sns\n",
    "import sys, time\n",
    "\n",
    "# tweaks for numpy & plotting libraries\n",
    "float_formatter = lambda x: '%.4f' % x\n",
    "np.set_printoptions(formatter={'float_kind':float_formatter})\n",
    "np.set_printoptions(threshold=np.inf, suppress=True, precision=4, linewidth=2048)\n",
    "\n",
    "plt.style.use(\"seaborn-colorblind\")\n",
    "plt.rcParams[\"figure.figsize\"] = (8, 6)\n",
    "sns.set_style(\"darkgrid\")\n",
    "#sns.set_context(\"talk\")\n",
    "sns.set_context(context='notebook', font_scale=1.25)\n",
    "sns.set_style({\"font.sans-serif\": [\"Verdana\", \"Arial\", \"Calibri\", \"DejaVu Sans\"]})\n",
    "\n",
    "# NOTE: Always use a seed for random number generators, so you get same results across runs\n",
    "# you can use any number as the seed \n",
    "seed = 101\n",
    "np.random.seed(seed)"
   ]
  },
  {
   "cell_type": "markdown",
   "metadata": {},
   "source": [
    "## Loading & Pre-processing the Images\n",
    "We will download the IRIS dataset from the [UCI Machine Learning Repository](https://archive.ics.uci.edu/ml/machine-learning-databases/iris/iris.data). We will use the Pandas library to pre-process the data. The downloaded dataset is in CSV format, sorted by the species columns - first 50 records are for Iris-setosa, next 50 for Iris-versicolor and last 50 for Iris-virginical species. The features are ordered (left to right) as `sepal length, sepal width, petal length & petal width`. The dataset does not have column headers - we will provide these too. "
   ]
  },
  {
   "cell_type": "code",
   "execution_count": 2,
   "metadata": {},
   "outputs": [],
   "source": [
    "import pandas as pd\n",
    "\n",
    "# tweaks for pandas\n",
    "pd.set_option('display.notebook_repr_html',True)\n",
    "pd.set_option('display.max_rows', 15)\n",
    "pd.set_option('display.max_columns', 25)\n",
    "pd.set_option('display.width', 1024)\n",
    "pd.set_option('display.float_format', float_formatter)\n",
    "\n",
    "col_names = ['sepal_length', 'sepal_width', 'petal_length', 'petal_width', 'species']\n",
    "\n",
    "# helper function to download the data from UCI ML repository URL\n",
    "def load_data():\n",
    "    url = 'https://archive.ics.uci.edu/ml/machine-learning-databases/iris/iris.data'\n",
    "    iris_df = pd.read_csv(url, header=None, names=col_names)\n",
    "    species = np.unique(iris_df['species'])\n",
    "    return iris_df, species"
   ]
  },
  {
   "cell_type": "code",
   "execution_count": 3,
   "metadata": {},
   "outputs": [
    {
     "data": {
      "text/html": [
       "<div>\n",
       "<style scoped>\n",
       "    .dataframe tbody tr th:only-of-type {\n",
       "        vertical-align: middle;\n",
       "    }\n",
       "\n",
       "    .dataframe tbody tr th {\n",
       "        vertical-align: top;\n",
       "    }\n",
       "\n",
       "    .dataframe thead th {\n",
       "        text-align: right;\n",
       "    }\n",
       "</style>\n",
       "<table border=\"1\" class=\"dataframe\">\n",
       "  <thead>\n",
       "    <tr style=\"text-align: right;\">\n",
       "      <th></th>\n",
       "      <th>sepal_length</th>\n",
       "      <th>sepal_width</th>\n",
       "      <th>petal_length</th>\n",
       "      <th>petal_width</th>\n",
       "      <th>species</th>\n",
       "    </tr>\n",
       "  </thead>\n",
       "  <tbody>\n",
       "    <tr>\n",
       "      <th>95</th>\n",
       "      <td>5.7000</td>\n",
       "      <td>3.0000</td>\n",
       "      <td>4.2000</td>\n",
       "      <td>1.2000</td>\n",
       "      <td>Iris-versicolor</td>\n",
       "    </tr>\n",
       "    <tr>\n",
       "      <th>11</th>\n",
       "      <td>4.8000</td>\n",
       "      <td>3.4000</td>\n",
       "      <td>1.6000</td>\n",
       "      <td>0.2000</td>\n",
       "      <td>Iris-setosa</td>\n",
       "    </tr>\n",
       "    <tr>\n",
       "      <th>81</th>\n",
       "      <td>5.5000</td>\n",
       "      <td>2.4000</td>\n",
       "      <td>3.7000</td>\n",
       "      <td>1.0000</td>\n",
       "      <td>Iris-versicolor</td>\n",
       "    </tr>\n",
       "    <tr>\n",
       "      <th>70</th>\n",
       "      <td>5.9000</td>\n",
       "      <td>3.2000</td>\n",
       "      <td>4.8000</td>\n",
       "      <td>1.8000</td>\n",
       "      <td>Iris-versicolor</td>\n",
       "    </tr>\n",
       "    <tr>\n",
       "      <th>63</th>\n",
       "      <td>6.1000</td>\n",
       "      <td>2.9000</td>\n",
       "      <td>4.7000</td>\n",
       "      <td>1.4000</td>\n",
       "      <td>Iris-versicolor</td>\n",
       "    </tr>\n",
       "    <tr>\n",
       "      <th>87</th>\n",
       "      <td>6.3000</td>\n",
       "      <td>2.3000</td>\n",
       "      <td>4.4000</td>\n",
       "      <td>1.3000</td>\n",
       "      <td>Iris-versicolor</td>\n",
       "    </tr>\n",
       "    <tr>\n",
       "      <th>75</th>\n",
       "      <td>6.6000</td>\n",
       "      <td>3.0000</td>\n",
       "      <td>4.4000</td>\n",
       "      <td>1.4000</td>\n",
       "      <td>Iris-versicolor</td>\n",
       "    </tr>\n",
       "    <tr>\n",
       "      <th>...</th>\n",
       "      <td>...</td>\n",
       "      <td>...</td>\n",
       "      <td>...</td>\n",
       "      <td>...</td>\n",
       "      <td>...</td>\n",
       "    </tr>\n",
       "    <tr>\n",
       "      <th>5</th>\n",
       "      <td>5.4000</td>\n",
       "      <td>3.9000</td>\n",
       "      <td>1.7000</td>\n",
       "      <td>0.4000</td>\n",
       "      <td>Iris-setosa</td>\n",
       "    </tr>\n",
       "    <tr>\n",
       "      <th>140</th>\n",
       "      <td>6.7000</td>\n",
       "      <td>3.1000</td>\n",
       "      <td>5.6000</td>\n",
       "      <td>2.4000</td>\n",
       "      <td>Iris-virginica</td>\n",
       "    </tr>\n",
       "    <tr>\n",
       "      <th>40</th>\n",
       "      <td>5.0000</td>\n",
       "      <td>3.5000</td>\n",
       "      <td>1.3000</td>\n",
       "      <td>0.3000</td>\n",
       "      <td>Iris-setosa</td>\n",
       "    </tr>\n",
       "    <tr>\n",
       "      <th>49</th>\n",
       "      <td>5.0000</td>\n",
       "      <td>3.3000</td>\n",
       "      <td>1.4000</td>\n",
       "      <td>0.2000</td>\n",
       "      <td>Iris-setosa</td>\n",
       "    </tr>\n",
       "    <tr>\n",
       "      <th>83</th>\n",
       "      <td>6.0000</td>\n",
       "      <td>2.7000</td>\n",
       "      <td>5.1000</td>\n",
       "      <td>1.6000</td>\n",
       "      <td>Iris-versicolor</td>\n",
       "    </tr>\n",
       "    <tr>\n",
       "      <th>111</th>\n",
       "      <td>6.4000</td>\n",
       "      <td>2.7000</td>\n",
       "      <td>5.3000</td>\n",
       "      <td>1.9000</td>\n",
       "      <td>Iris-virginica</td>\n",
       "    </tr>\n",
       "    <tr>\n",
       "      <th>136</th>\n",
       "      <td>6.3000</td>\n",
       "      <td>3.4000</td>\n",
       "      <td>5.6000</td>\n",
       "      <td>2.4000</td>\n",
       "      <td>Iris-virginica</td>\n",
       "    </tr>\n",
       "  </tbody>\n",
       "</table>\n",
       "<p>20 rows × 5 columns</p>\n",
       "</div>"
      ],
      "text/plain": [
       "     sepal_length  sepal_width  petal_length  petal_width          species\n",
       "95         5.7000       3.0000        4.2000       1.2000  Iris-versicolor\n",
       "11         4.8000       3.4000        1.6000       0.2000      Iris-setosa\n",
       "81         5.5000       2.4000        3.7000       1.0000  Iris-versicolor\n",
       "70         5.9000       3.2000        4.8000       1.8000  Iris-versicolor\n",
       "63         6.1000       2.9000        4.7000       1.4000  Iris-versicolor\n",
       "87         6.3000       2.3000        4.4000       1.3000  Iris-versicolor\n",
       "75         6.6000       3.0000        4.4000       1.4000  Iris-versicolor\n",
       "..            ...          ...           ...          ...              ...\n",
       "5          5.4000       3.9000        1.7000       0.4000      Iris-setosa\n",
       "140        6.7000       3.1000        5.6000       2.4000   Iris-virginica\n",
       "40         5.0000       3.5000        1.3000       0.3000      Iris-setosa\n",
       "49         5.0000       3.3000        1.4000       0.2000      Iris-setosa\n",
       "83         6.0000       2.7000        5.1000       1.6000  Iris-versicolor\n",
       "111        6.4000       2.7000        5.3000       1.9000   Iris-virginica\n",
       "136        6.3000       3.4000        5.6000       2.4000   Iris-virginica\n",
       "\n",
       "[20 rows x 5 columns]"
      ]
     },
     "execution_count": 3,
     "metadata": {},
     "output_type": "execute_result"
    }
   ],
   "source": [
    "iris_df, species = load_data()\n",
    "# select 20 random records & display\n",
    "indexes = np.random.randint(0, len(iris_df), 20)\n",
    "#iris_df.head()  # display first 5\n",
    "iris_df.iloc[indexes,:]"
   ]
  },
  {
   "cell_type": "code",
   "execution_count": 4,
   "metadata": {},
   "outputs": [
    {
     "name": "stdout",
     "output_type": "stream",
     "text": [
      "['Iris-setosa' 'Iris-versicolor' 'Iris-virginica']\n"
     ]
    }
   ],
   "source": [
    "print(species)"
   ]
  },
  {
   "cell_type": "markdown",
   "metadata": {},
   "source": [
    "The following pre-processing steps will be applied:\n",
    "* The `species` column is categorical (text) - we will encode/map to numeric values using following mapping `{'Iris-setosa': 0, 'Iris-versicolor': 1, 'Iris-virginica': 2}`\n",
    "* The data is sorted by `species` columns (i.e. first 50 rows are for Iris-setosa, next 50 for Iris-versicolor and last 50 for Iris-virginica) - we will shuffle the data so that train & test sets are randomly picked\n",
    "* The features (sepal_length, sepal_width, petal_length & petal_width) will be standard scaled & labels (species) will be one-hot encoded to 3 columns (corresponding to 3 output classes/species)\n",
    "These transformations are applied across several of the following cells."
   ]
  },
  {
   "cell_type": "code",
   "execution_count": 5,
   "metadata": {},
   "outputs": [
    {
     "name": "stdout",
     "output_type": "stream",
     "text": [
      "{'Iris-setosa': 0, 'Iris-versicolor': 1, 'Iris-virginica': 2}\n",
      "{0: 'Iris-setosa', 1: 'Iris-versicolor', 2: 'Iris-virginica'}\n",
      "encoded_array -> [0 1 2]\n",
      "decoded_array -> ['Iris-setosa' 'Iris-versicolor' 'Iris-virginica']\n"
     ]
    }
   ],
   "source": [
    "# helper functions to encode/decode columns\n",
    "labels2code_map = {j:i for i, j in enumerate(species)}\n",
    "code2labels_map = {i:j for i, j in enumerate(species)}\n",
    "print(labels2code_map)\n",
    "print(code2labels_map)\n",
    "\n",
    "def encode_array(arr):\n",
    "    # convert labels to code\n",
    "    encoder = np.vectorize(lambda label : labels2code_map[label])\n",
    "    return encoder(arr)\n",
    "    \n",
    "def decode_array(arr):\n",
    "    # convert code to labels\n",
    "    decoder = np.vectorize(lambda code : code2labels_map[code])\n",
    "    return decoder(arr)\n",
    "\n",
    "encoded_array = encode_array(species)\n",
    "print('encoded_array -> {}'.format(encoded_array))\n",
    "print('decoded_array -> {}'.format(decode_array(encoded_array)))"
   ]
  },
  {
   "cell_type": "code",
   "execution_count": 6,
   "metadata": {},
   "outputs": [
    {
     "data": {
      "text/html": [
       "<div>\n",
       "<style scoped>\n",
       "    .dataframe tbody tr th:only-of-type {\n",
       "        vertical-align: middle;\n",
       "    }\n",
       "\n",
       "    .dataframe tbody tr th {\n",
       "        vertical-align: top;\n",
       "    }\n",
       "\n",
       "    .dataframe thead th {\n",
       "        text-align: right;\n",
       "    }\n",
       "</style>\n",
       "<table border=\"1\" class=\"dataframe\">\n",
       "  <thead>\n",
       "    <tr style=\"text-align: right;\">\n",
       "      <th></th>\n",
       "      <th>sepal_length</th>\n",
       "      <th>sepal_width</th>\n",
       "      <th>petal_length</th>\n",
       "      <th>petal_width</th>\n",
       "      <th>species</th>\n",
       "    </tr>\n",
       "  </thead>\n",
       "  <tbody>\n",
       "    <tr>\n",
       "      <th>115</th>\n",
       "      <td>6.4000</td>\n",
       "      <td>3.2000</td>\n",
       "      <td>5.3000</td>\n",
       "      <td>2.3000</td>\n",
       "      <td>2</td>\n",
       "    </tr>\n",
       "    <tr>\n",
       "      <th>115</th>\n",
       "      <td>6.4000</td>\n",
       "      <td>3.2000</td>\n",
       "      <td>5.3000</td>\n",
       "      <td>2.3000</td>\n",
       "      <td>2</td>\n",
       "    </tr>\n",
       "    <tr>\n",
       "      <th>59</th>\n",
       "      <td>5.2000</td>\n",
       "      <td>2.7000</td>\n",
       "      <td>3.9000</td>\n",
       "      <td>1.4000</td>\n",
       "      <td>1</td>\n",
       "    </tr>\n",
       "    <tr>\n",
       "      <th>44</th>\n",
       "      <td>5.1000</td>\n",
       "      <td>3.8000</td>\n",
       "      <td>1.9000</td>\n",
       "      <td>0.4000</td>\n",
       "      <td>0</td>\n",
       "    </tr>\n",
       "    <tr>\n",
       "      <th>72</th>\n",
       "      <td>6.3000</td>\n",
       "      <td>2.5000</td>\n",
       "      <td>4.9000</td>\n",
       "      <td>1.5000</td>\n",
       "      <td>1</td>\n",
       "    </tr>\n",
       "    <tr>\n",
       "      <th>19</th>\n",
       "      <td>5.1000</td>\n",
       "      <td>3.8000</td>\n",
       "      <td>1.5000</td>\n",
       "      <td>0.3000</td>\n",
       "      <td>0</td>\n",
       "    </tr>\n",
       "    <tr>\n",
       "      <th>126</th>\n",
       "      <td>6.2000</td>\n",
       "      <td>2.8000</td>\n",
       "      <td>4.8000</td>\n",
       "      <td>1.8000</td>\n",
       "      <td>2</td>\n",
       "    </tr>\n",
       "    <tr>\n",
       "      <th>...</th>\n",
       "      <td>...</td>\n",
       "      <td>...</td>\n",
       "      <td>...</td>\n",
       "      <td>...</td>\n",
       "      <td>...</td>\n",
       "    </tr>\n",
       "    <tr>\n",
       "      <th>8</th>\n",
       "      <td>4.4000</td>\n",
       "      <td>2.9000</td>\n",
       "      <td>1.4000</td>\n",
       "      <td>0.2000</td>\n",
       "      <td>0</td>\n",
       "    </tr>\n",
       "    <tr>\n",
       "      <th>62</th>\n",
       "      <td>6.0000</td>\n",
       "      <td>2.2000</td>\n",
       "      <td>4.0000</td>\n",
       "      <td>1.0000</td>\n",
       "      <td>1</td>\n",
       "    </tr>\n",
       "    <tr>\n",
       "      <th>99</th>\n",
       "      <td>5.7000</td>\n",
       "      <td>2.8000</td>\n",
       "      <td>4.1000</td>\n",
       "      <td>1.3000</td>\n",
       "      <td>1</td>\n",
       "    </tr>\n",
       "    <tr>\n",
       "      <th>28</th>\n",
       "      <td>5.2000</td>\n",
       "      <td>3.4000</td>\n",
       "      <td>1.4000</td>\n",
       "      <td>0.2000</td>\n",
       "      <td>0</td>\n",
       "    </tr>\n",
       "    <tr>\n",
       "      <th>63</th>\n",
       "      <td>6.1000</td>\n",
       "      <td>2.9000</td>\n",
       "      <td>4.7000</td>\n",
       "      <td>1.4000</td>\n",
       "      <td>1</td>\n",
       "    </tr>\n",
       "    <tr>\n",
       "      <th>7</th>\n",
       "      <td>5.0000</td>\n",
       "      <td>3.4000</td>\n",
       "      <td>1.5000</td>\n",
       "      <td>0.2000</td>\n",
       "      <td>0</td>\n",
       "    </tr>\n",
       "    <tr>\n",
       "      <th>138</th>\n",
       "      <td>6.0000</td>\n",
       "      <td>3.0000</td>\n",
       "      <td>4.8000</td>\n",
       "      <td>1.8000</td>\n",
       "      <td>2</td>\n",
       "    </tr>\n",
       "  </tbody>\n",
       "</table>\n",
       "<p>20 rows × 5 columns</p>\n",
       "</div>"
      ],
      "text/plain": [
       "     sepal_length  sepal_width  petal_length  petal_width  species\n",
       "115        6.4000       3.2000        5.3000       2.3000        2\n",
       "115        6.4000       3.2000        5.3000       2.3000        2\n",
       "59         5.2000       2.7000        3.9000       1.4000        1\n",
       "44         5.1000       3.8000        1.9000       0.4000        0\n",
       "72         6.3000       2.5000        4.9000       1.5000        1\n",
       "19         5.1000       3.8000        1.5000       0.3000        0\n",
       "126        6.2000       2.8000        4.8000       1.8000        2\n",
       "..            ...          ...           ...          ...      ...\n",
       "8          4.4000       2.9000        1.4000       0.2000        0\n",
       "62         6.0000       2.2000        4.0000       1.0000        1\n",
       "99         5.7000       2.8000        4.1000       1.3000        1\n",
       "28         5.2000       3.4000        1.4000       0.2000        0\n",
       "63         6.1000       2.9000        4.7000       1.4000        1\n",
       "7          5.0000       3.4000        1.5000       0.2000        0\n",
       "138        6.0000       3.0000        4.8000       1.8000        2\n",
       "\n",
       "[20 rows x 5 columns]"
      ]
     },
     "execution_count": 6,
     "metadata": {},
     "output_type": "execute_result"
    }
   ],
   "source": [
    "# encode the 'species' column of the dataframe\n",
    "iris_df['species'] = encode_array(iris_df['species'])\n",
    "# select 20 random records & display\n",
    "indexes = np.random.randint(0, len(iris_df), 20)\n",
    "#iris_df.head()  # display first 5\n",
    "iris_df.iloc[indexes,:]"
   ]
  },
  {
   "cell_type": "code",
   "execution_count": 7,
   "metadata": {},
   "outputs": [
    {
     "name": "stdout",
     "output_type": "stream",
     "text": [
      "Features -> [[5.1 3.5 1.4 0.2]\n",
      " [4.9 3.  1.4 0.2]\n",
      " [4.7 3.2 1.3 0.2]\n",
      " [4.6 3.1 1.5 0.2]\n",
      " [5.  3.6 1.4 0.2]\n",
      " [5.4 3.9 1.7 0.4]\n",
      " [4.6 3.4 1.4 0.3]\n",
      " [5.  3.4 1.5 0.2]\n",
      " [4.4 2.9 1.4 0.2]\n",
      " [4.9 3.1 1.5 0.1]]\n",
      "Labels -> [0 0 0 0 0 0 0 0 0 0]\n"
     ]
    }
   ],
   "source": [
    "# separate the data into features & labels\n",
    "features = iris_df.drop(['species'], axis=1).values\n",
    "labels = iris_df['species'].values\n",
    "print('Features -> {}'.format(features[:10]))\n",
    "print('Labels -> {}'.format(labels[:10]))"
   ]
  },
  {
   "cell_type": "code",
   "execution_count": 8,
   "metadata": {},
   "outputs": [
    {
     "name": "stdout",
     "output_type": "stream",
     "text": [
      "Features -> [[4.6 3.4 1.4 0.3]\n",
      " [6.3 3.3 6.  2.5]\n",
      " [5.4 3.4 1.7 0.2]\n",
      " [5.  3.5 1.6 0.6]\n",
      " [5.4 3.7 1.5 0.2]\n",
      " [5.2 3.4 1.4 0.2]\n",
      " [6.4 3.2 4.5 1.5]\n",
      " [6.9 3.2 5.7 2.3]\n",
      " [6.1 2.8 4.7 1.2]\n",
      " [5.5 3.5 1.3 0.2]]\n",
      "Labels -> [0 2 0 0 0 0 1 2 1 0]\n"
     ]
    }
   ],
   "source": [
    "# let's shuffle the features & labels\n",
    "indexes = np.arange(len(features))\n",
    "for _ in range(5): indexes = np.random.permutation(indexes)\n",
    "features = features[indexes,:]\n",
    "labels = labels[indexes]\n",
    "# display shuffled\n",
    "print('Features -> {}'.format(features[:10]))\n",
    "print('Labels -> {}'.format(labels[:10]))"
   ]
  },
  {
   "cell_type": "code",
   "execution_count": 9,
   "metadata": {},
   "outputs": [
    {
     "name": "stdout",
     "output_type": "stream",
     "text": [
      "(120, 4) (30, 4) (120,) (30,)\n"
     ]
    }
   ],
   "source": [
    "# split into train/test sets\n",
    "from sklearn.model_selection import train_test_split\n",
    "\n",
    "X_train, X_test, y_train, y_test = \\\n",
    "    train_test_split(features, labels, test_size=0.2, random_state=seed)\n",
    "print(X_train.shape, X_test.shape, y_train.shape, y_test.shape)"
   ]
  },
  {
   "cell_type": "code",
   "execution_count": 10,
   "metadata": {},
   "outputs": [
    {
     "name": "stderr",
     "output_type": "stream",
     "text": [
      "Using TensorFlow backend.\n"
     ]
    },
    {
     "name": "stdout",
     "output_type": "stream",
     "text": [
      "(120, 4) (30, 4) (120, 3) (30, 3)\n"
     ]
    }
   ],
   "source": [
    "# standard scale features & one-hot encode labels\n",
    "from sklearn.preprocessing import StandardScaler\n",
    "from keras.utils import to_categorical\n",
    "\n",
    "ss = StandardScaler()\n",
    "X_train = ss.fit_transform(X_train)\n",
    "X_test = ss.transform(X_test)\n",
    "y_train = to_categorical(y_train)\n",
    "y_test = to_categorical(y_test)\n",
    "print(X_train.shape, X_test.shape, y_train.shape, y_test.shape)"
   ]
  },
  {
   "cell_type": "markdown",
   "metadata": {},
   "source": [
    "We have completed the preprocessing of the IRIS dataset - sweet!\n",
    "\n",
    "### Global Variables\n",
    "Next, let's define some global variables, which will be used across the Tensorflow & Keras models."
   ]
  },
  {
   "cell_type": "code",
   "execution_count": 11,
   "metadata": {},
   "outputs": [
    {
     "name": "stdout",
     "output_type": "stream",
     "text": [
      "num_features = 4, num_classes = 3, epochs = 100, batch_size = 16\n",
      "Network layout = [4, 64, 64, 3]\n"
     ]
    }
   ],
   "source": [
    "num_features, num_classes, epochs, batch_size = X_train.shape[1], y_train.shape[1], 100, 16\n",
    "print('num_features = {}, num_classes = {}, epochs = {}, batch_size = {}'.format(\n",
    "            num_features, num_classes, epochs, batch_size))\n",
    "\n",
    "# layout of our MLP - 2 hidden layers with 64 nodes each\n",
    "layer_dims = [num_features, 64, 64, num_classes]\n",
    "print('Network layout = {}'.format(layer_dims))\n",
    "\n",
    "# for loading & saving model\n",
    "MODEL_SAVE_DIR, TF_MODEL_NAME, KR_MODEL_NAME = './model_states', 'tf_IRIS_mlp', 'kr_IRIS_mlp'"
   ]
  },
  {
   "cell_type": "markdown",
   "metadata": {},
   "source": [
    "## Tensorflow Implementation\n",
    "In this section, we will develop the MLP using Tensorflow. We have developed several utility functions to help with model development - training, evaluation, loading & saving model state, predictions. These functions are available in the Python code file `tf_nn_helper.py`, which is imported into this workbook.\n",
    "\n",
    "### Building the Tensorflow Model\n",
    "Our MLP is a 4 layer network (including the input & output layers) - we have 2 hidden layers with 64 nodes each. "
   ]
  },
  {
   "cell_type": "code",
   "execution_count": 12,
   "metadata": {},
   "outputs": [],
   "source": [
    "import tensorflow as tf\n",
    "tf.set_random_seed(seed)\n",
    "import tf_nn_helper as tfu # Tensorflow utility functions for creating/training/evaluating/loading & saving TF models"
   ]
  },
  {
   "cell_type": "code",
   "execution_count": 13,
   "metadata": {},
   "outputs": [],
   "source": [
    "def initialize_parameters(layer_dims, debug=False):\n",
    "    \"\"\" build the weights & biases for the network based on layout in LAYER_DIMS \"\"\"\n",
    "    weights, biases = {}, {}\n",
    "    L = len(layer_dims)\n",
    "    for l in range(1, L):\n",
    "        weights['W' + str(l)] = tf.get_variable('W' + str(l),\n",
    "                                                dtype=tf.float32,\n",
    "                                                shape=(layer_dims[l-1], layer_dims[l]),\n",
    "                                                initializer=tf.contrib.layers.xavier_initializer())\n",
    "        biases['b' + str(l)] = tf.get_variable('b' + str(l),\n",
    "                                                dtype=tf.float32,\n",
    "                                                shape=(1, layer_dims[l]),\n",
    "                                                initializer=tf.zeros_initializer())  \n",
    "        \n",
    "    if debug:\n",
    "        # display weights & biases\n",
    "        for i, w in enumerate(weights):\n",
    "            print('weights[W{}] = {}'.format(i, weights['W' + str(i+1)]))\n",
    "            print('biases[b{}] = {}'.format(i, biases['b' + str(i+1)]), flush=True)\n",
    "    return weights, biases"
   ]
  },
  {
   "cell_type": "code",
   "execution_count": 14,
   "metadata": {},
   "outputs": [],
   "source": [
    "def build_tf_model(X, y, kp, layer_dims, debug=False):\n",
    "    \n",
    "    def build_tf_nn(A0, weights, biases):\n",
    "        \"\"\" builds the network layers \"\"\"\n",
    "        A_prev = A0\n",
    "        L = len(weights)\n",
    "        for l in range(1, L):\n",
    "            W, b = weights['W' + str(l)], biases['b' + str(l)]\n",
    "            A = tfu.dense(A_prev, W, b, activation='relu', batch_normalize=False)\n",
    "            A = tf.nn.dropout(A, keep_prob=kp)\n",
    "            A_prev = A\n",
    "        # output layer - this will have softmax activation for multi-class classification\n",
    "        W, b = weights['W' + str(L)], biases['b' + str(L)]\n",
    "        out = tfu.dense(A_prev, W, b, activation='softmax', batch_normalize=False)\n",
    "        out = tfu.add_name_to_tensor(out, name='out')\n",
    "        return out\n",
    "    \n",
    "    weights, biases = initialize_parameters(layer_dims, debug=debug)\n",
    "    # our network tensors\n",
    "    out = build_tf_nn(X, weights, biases)\n",
    "    loss = tf.reduce_mean(tf.nn.softmax_cross_entropy_with_logits_v2(labels=y, logits=out), name='loss')\n",
    "    optimizer = tf.train.AdamOptimizer(learning_rate=0.001)\n",
    "    train_op = optimizer.minimize(loss, name='train_op')\n",
    "    correct_prediction = tf.equal(tf.argmax(out,axis=1), tf.argmax(y, axis=1))\n",
    "    tfu.add_name_to_tensor(correct_prediction, 'correct_prediction')\n",
    "    accuracy = tf.reduce_mean(tf.cast(correct_prediction, tf.float32), name='acc')\n",
    "    \n",
    "  #  now collect all these tensors & operators into a dict, which we can conveniently pass around\n",
    "  #  to the various utility functions we have created above\n",
    "  #  NOTE: keys of the dicts must be names EXACTLY as shown below, else the helper functions won't work.\n",
    "    model = {}\n",
    "    #model['weights'] = weights\n",
    "    #model['biases'] = biases\n",
    "    model['out'] = out\n",
    "    model['loss'] = loss\n",
    "    #model['optimizer'] = optimizer\n",
    "    model['train_op'] = train_op\n",
    "    model['correct_prediction'] = correct_prediction\n",
    "    model['accuracy'] = accuracy\n",
    "    return model      "
   ]
  },
  {
   "cell_type": "code",
   "execution_count": 15,
   "metadata": {},
   "outputs": [],
   "source": [
    "def load_tf_model(sess, base_file_name='network', model_path='./model_states'):\n",
    "    # following call will raise exception if it fails!\n",
    "    tf_graph = tfu.load_tf_model(sess, base_file_name, model_path)\n",
    "    \n",
    "    # restore elements from graph\n",
    "    X = tf_graph.get_tensor_by_name(\"X:0\")\n",
    "    y = tf_graph.get_tensor_by_name(\"y:0\")\n",
    "    kp = tf_graph.get_tensor_by_name(\"keep_prob:0\")\n",
    "\n",
    "    # restore model dict\n",
    "    model = {}\n",
    "    model['out'] = tf_graph.get_tensor_by_name(\"out:0\")\n",
    "    model['loss'] = tf_graph.get_tensor_by_name(\"loss:0\")\n",
    "    #model['optimizer'] = optimizer\n",
    "    model['train_op'] = tf_graph.get_operation_by_name(\"train_op\")\n",
    "    model['correct_prediction'] = tf_graph.get_tensor_by_name(\"correct_prediction:0\")\n",
    "    model['accuracy'] = tf_graph.get_tensor_by_name(\"acc:0\")\n",
    "    return model, X, y, kp"
   ]
  },
  {
   "cell_type": "markdown",
   "metadata": {},
   "source": [
    "### Training our Tensorflow Model\n",
    "We will train our Tensorflow model through 50 epochs, using a batch size of 128. But we first need to create placeholders."
   ]
  },
  {
   "cell_type": "code",
   "execution_count": 16,
   "metadata": {},
   "outputs": [],
   "source": [
    "def create_placeholders(debug=False):\n",
    "    # NOTE: tf_nn_helper expects 2 place holders with name \"X\" and \"y\"\n",
    "    # which is used to pass data to our model during training & evaluation\n",
    "    X = tf.placeholder(dtype=tf.float32, name=\"X\", shape=(None, num_features))\n",
    "    y = tf.placeholder(dtype=tf.float32, name=\"y\", shape=(None, num_classes))\n",
    "    kp = tf.placeholder(dtype=tf.float32, name='keep_prob')\n",
    "    if debug: print('Placeholders: X = {}, y = {}, kp={}'.format(X, y, kp), flush=True)\n",
    "    return X, y, kp"
   ]
  },
  {
   "cell_type": "code",
   "execution_count": 17,
   "metadata": {},
   "outputs": [
    {
     "name": "stdout",
     "output_type": "stream",
     "text": [
      "Placeholders: X = Tensor(\"X:0\", shape=(?, 4), dtype=float32), y = Tensor(\"y:0\", shape=(?, 3), dtype=float32), kp=Tensor(\"keep_prob:0\", dtype=float32)\n",
      "{'out': <tf.Tensor 'out:0' shape=(?, 3) dtype=float32>, 'loss': <tf.Tensor 'loss:0' shape=() dtype=float32>, 'train_op': <tf.Operation 'train_op' type=NoOp>, 'correct_prediction': <tf.Tensor 'Equal:0' shape=(?,) dtype=bool>, 'accuracy': <tf.Tensor 'acc:0' shape=() dtype=float32>}\n"
     ]
    }
   ],
   "source": [
    "# build the model\n",
    "tf.reset_default_graph()\n",
    "X, y, kp = create_placeholders(debug=True)\n",
    "tf_model = build_tf_model(X, y, kp, layer_dims)\n",
    "print(tf_model)"
   ]
  },
  {
   "cell_type": "code",
   "execution_count": 18,
   "metadata": {},
   "outputs": [
    {
     "name": "stdout",
     "output_type": "stream",
     "text": [
      "Train on 120 samples. Train for 100 epochs,, with 8 batches per epoch.\n",
      "Epoch 1/100:\n",
      "   Batch (8/8) [==============================] -> loss: 1.0515 - acc: 0.5547                                        \n",
      "Epoch 2/100:\n",
      "   Batch (8/8) [==============================] -> loss: 0.9708 - acc: 0.6641                                        \n",
      "Epoch 3/100:\n",
      "   Batch (8/8) [==============================] -> loss: 0.9079 - acc: 0.7578                                        \n",
      "Epoch 4/100:\n",
      "   Batch (8/8) [==============================] -> loss: 0.8634 - acc: 0.7734                                        \n",
      "Epoch 5/100:\n",
      "   Batch (8/8) [==============================] -> loss: 0.8437 - acc: 0.7656                                        \n",
      "Epoch 6/100:\n",
      "   Batch (8/8) [==============================] -> loss: 0.8053 - acc: 0.8125                                        \n",
      "Epoch 7/100:\n",
      "   Batch (8/8) [==============================] -> loss: 0.7884 - acc: 0.8359                                        \n",
      "Epoch 8/100:\n",
      "   Batch (8/8) [==============================] -> loss: 0.7855 - acc: 0.8125                                        \n",
      "Epoch 9/100:\n",
      "   Batch (8/8) [==============================] -> loss: 0.7621 - acc: 0.8203                                        \n",
      "Epoch 10/100:\n",
      "   Batch (8/8) [==============================] -> loss: 0.7548 - acc: 0.8594                                        \n",
      "Epoch 11/100:\n",
      "   Batch (8/8) [==============================] -> loss: 0.7549 - acc: 0.8516                                        \n",
      "Epoch 12/100:\n",
      "   Batch (8/8) [==============================] -> loss: 0.7370 - acc: 0.8359                                        \n",
      "Epoch 13/100:\n",
      "   Batch (8/8) [==============================] -> loss: 0.7208 - acc: 0.8750                                        \n",
      "Epoch 14/100:\n",
      "   Batch (8/8) [==============================] -> loss: 0.7178 - acc: 0.8438                                        \n",
      "Epoch 15/100:\n",
      "   Batch (8/8) [==============================] -> loss: 0.7045 - acc: 0.8906                                        \n",
      "Epoch 16/100:\n",
      "   Batch (8/8) [==============================] -> loss: 0.7065 - acc: 0.8750                                        \n",
      "Epoch 17/100:\n",
      "   Batch (8/8) [==============================] -> loss: 0.7027 - acc: 0.8750                                        \n",
      "Epoch 18/100:\n",
      "   Batch (8/8) [==============================] -> loss: 0.6941 - acc: 0.8516                                        \n",
      "Epoch 19/100:\n",
      "   Batch (8/8) [==============================] -> loss: 0.7080 - acc: 0.8359                                        \n",
      "Epoch 20/100:\n",
      "   Batch (8/8) [==============================] -> loss: 0.6799 - acc: 0.9062                                        \n",
      "Epoch 21/100:\n",
      "   Batch (8/8) [==============================] -> loss: 0.6806 - acc: 0.8906                                        \n",
      "Epoch 22/100:\n",
      "   Batch (8/8) [==============================] -> loss: 0.6603 - acc: 0.9297                                        \n",
      "Epoch 23/100:\n",
      "   Batch (8/8) [==============================] -> loss: 0.6705 - acc: 0.9141                                        \n",
      "Epoch 24/100:\n",
      "   Batch (8/8) [==============================] -> loss: 0.6900 - acc: 0.8516                                        \n",
      "Epoch 25/100:\n",
      "   Batch (8/8) [==============================] -> loss: 0.6607 - acc: 0.8828                                        \n",
      "Epoch 26/100:\n",
      "   Batch (8/8) [==============================] -> loss: 0.6599 - acc: 0.9219                                        \n",
      "Epoch 27/100:\n",
      "   Batch (8/8) [==============================] -> loss: 0.6522 - acc: 0.9141                                        \n",
      "Epoch 28/100:\n",
      "   Batch (8/8) [==============================] -> loss: 0.6560 - acc: 0.9062                                        \n",
      "Epoch 29/100:\n",
      "   Batch (8/8) [==============================] -> loss: 0.6641 - acc: 0.9141                                        \n",
      "Epoch 30/100:\n",
      "   Batch (8/8) [==============================] -> loss: 0.6528 - acc: 0.9141                                        \n",
      "Epoch 31/100:\n",
      "   Batch (8/8) [==============================] -> loss: 0.6502 - acc: 0.9141                                        \n",
      "Epoch 32/100:\n",
      "   Batch (8/8) [==============================] -> loss: 0.6447 - acc: 0.9453                                        \n",
      "Epoch 33/100:\n",
      "   Batch (8/8) [==============================] -> loss: 0.6404 - acc: 0.9375                                        \n",
      "Epoch 34/100:\n",
      "   Batch (8/8) [==============================] -> loss: 0.6479 - acc: 0.9141                                        \n",
      "Epoch 35/100:\n",
      "   Batch (8/8) [==============================] -> loss: 0.6449 - acc: 0.9297                                        \n",
      "Epoch 36/100:\n",
      "   Batch (8/8) [==============================] -> loss: 0.6310 - acc: 0.9297                                        \n",
      "Epoch 37/100:\n",
      "   Batch (8/8) [==============================] -> loss: 0.6325 - acc: 0.9453                                        \n",
      "Epoch 38/100:\n",
      "   Batch (8/8) [==============================] -> loss: 0.6427 - acc: 0.9297                                        \n",
      "Epoch 39/100:\n",
      "   Batch (8/8) [==============================] -> loss: 0.6447 - acc: 0.9141                                        \n",
      "Epoch 40/100:\n",
      "   Batch (8/8) [==============================] -> loss: 0.6356 - acc: 0.9375                                        \n",
      "Epoch 41/100:\n",
      "   Batch (8/8) [==============================] -> loss: 0.6285 - acc: 0.9531                                        \n",
      "Epoch 42/100:\n",
      "   Batch (8/8) [==============================] -> loss: 0.6161 - acc: 0.9531                                        \n",
      "Epoch 43/100:\n",
      "   Batch (8/8) [==============================] -> loss: 0.6359 - acc: 0.9219                                        \n",
      "Epoch 44/100:\n",
      "   Batch (8/8) [==============================] -> loss: 0.6317 - acc: 0.9297                                        \n",
      "Epoch 45/100:\n",
      "   Batch (8/8) [==============================] -> loss: 0.6171 - acc: 0.9609                                        \n",
      "Epoch 46/100:\n",
      "   Batch (8/8) [==============================] -> loss: 0.6276 - acc: 0.9453                                        \n",
      "Epoch 47/100:\n",
      "   Batch (8/8) [==============================] -> loss: 0.6086 - acc: 0.9531                                        \n",
      "Epoch 48/100:\n",
      "   Batch (8/8) [==============================] -> loss: 0.6059 - acc: 0.9688                                        \n",
      "Epoch 49/100:\n",
      "   Batch (8/8) [==============================] -> loss: 0.6108 - acc: 0.9453                                        \n",
      "Epoch 50/100:\n",
      "   Batch (8/8) [==============================] -> loss: 0.6212 - acc: 0.9453                                        \n",
      "Epoch 51/100:\n",
      "   Batch (8/8) [==============================] -> loss: 0.6186 - acc: 0.9453                                        \n",
      "Epoch 52/100:\n",
      "   Batch (8/8) [==============================] -> loss: 0.6095 - acc: 0.9531                                        \n",
      "Epoch 53/100:\n",
      "   Batch (8/8) [==============================] -> loss: 0.6056 - acc: 0.9531                                        \n",
      "Epoch 54/100:\n",
      "   Batch (8/8) [==============================] -> loss: 0.6103 - acc: 0.9688                                        \n",
      "Epoch 55/100:\n",
      "   Batch (8/8) [==============================] -> loss: 0.6098 - acc: 0.9609                                        \n",
      "Epoch 56/100:\n",
      "   Batch (8/8) [==============================] -> loss: 0.6027 - acc: 0.9609                                        \n",
      "Epoch 57/100:\n",
      "   Batch (8/8) [==============================] -> loss: 0.6065 - acc: 0.9531                                        \n",
      "Epoch 58/100:\n",
      "   Batch (8/8) [==============================] -> loss: 0.6127 - acc: 0.9375                                        \n",
      "Epoch 59/100:\n",
      "   Batch (8/8) [==============================] -> loss: 0.6131 - acc: 0.9453                                        \n",
      "Epoch 60/100:\n",
      "   Batch (8/8) [==============================] -> loss: 0.6097 - acc: 0.9531                                        \n",
      "Epoch 61/100:\n",
      "   Batch (8/8) [==============================] -> loss: 0.6020 - acc: 0.9688                                        \n",
      "Epoch 62/100:\n",
      "   Batch (8/8) [==============================] -> loss: 0.6059 - acc: 0.9531                                        \n",
      "Epoch 63/100:\n",
      "   Batch (8/8) [==============================] -> loss: 0.6041 - acc: 0.9609                                        \n",
      "Epoch 64/100:\n",
      "   Batch (8/8) [==============================] -> loss: 0.6031 - acc: 0.9531                                        \n",
      "Epoch 65/100:\n",
      "   Batch (8/8) [==============================] -> loss: 0.5932 - acc: 0.9688                                        \n",
      "Epoch 66/100:\n",
      "   Batch (8/8) [==============================] -> loss: 0.5964 - acc: 0.9609                                        \n",
      "Epoch 67/100:\n",
      "   Batch (8/8) [==============================] -> loss: 0.5933 - acc: 0.9766                                        \n",
      "Epoch 68/100:\n",
      "   Batch (8/8) [==============================] -> loss: 0.6045 - acc: 0.9609                                        \n",
      "Epoch 69/100:\n",
      "   Batch (8/8) [==============================] -> loss: 0.5992 - acc: 0.9531                                        \n",
      "Epoch 70/100:\n",
      "   Batch (8/8) [==============================] -> loss: 0.5888 - acc: 0.9688                                        \n",
      "Epoch 71/100:\n",
      "   Batch (8/8) [==============================] -> loss: 0.5923 - acc: 0.9688                                        \n",
      "Epoch 72/100:\n",
      "   Batch (8/8) [==============================] -> loss: 0.5876 - acc: 0.9766                                        \n",
      "Epoch 73/100:\n",
      "   Batch (8/8) [==============================] -> loss: 0.6014 - acc: 0.9453                                        \n",
      "Epoch 74/100:\n",
      "   Batch (8/8) [==============================] -> loss: 0.5997 - acc: 0.9531                                        \n",
      "Epoch 75/100:\n",
      "   Batch (8/8) [==============================] -> loss: 0.6043 - acc: 0.9609                                        \n",
      "Epoch 76/100:\n",
      "   Batch (8/8) [==============================] -> loss: 0.5828 - acc: 0.9844                                        \n",
      "Epoch 77/100:\n",
      "   Batch (8/8) [==============================] -> loss: 0.5933 - acc: 0.9688                                        \n",
      "Epoch 78/100:\n",
      "   Batch (8/8) [==============================] -> loss: 0.5795 - acc: 0.9922                                        \n",
      "Epoch 79/100:\n",
      "   Batch (8/8) [==============================] -> loss: 0.5886 - acc: 0.9688                                        \n",
      "Epoch 80/100:\n",
      "   Batch (8/8) [==============================] -> loss: 0.5925 - acc: 0.9688                                        \n",
      "Epoch 81/100:\n",
      "   Batch (8/8) [==============================] -> loss: 0.5858 - acc: 0.9688                                        \n",
      "Epoch 82/100:\n",
      "   Batch (8/8) [==============================] -> loss: 0.6011 - acc: 0.9531                                        \n",
      "Epoch 83/100:\n",
      "   Batch (8/8) [==============================] -> loss: 0.5892 - acc: 0.9766                                        \n",
      "Epoch 84/100:\n",
      "   Batch (8/8) [==============================] -> loss: 0.6022 - acc: 0.9531                                        \n",
      "Epoch 85/100:\n",
      "   Batch (8/8) [==============================] -> loss: 0.5901 - acc: 0.9688                                        \n",
      "Epoch 86/100:\n",
      "   Batch (8/8) [==============================] -> loss: 0.6017 - acc: 0.9531                                        \n",
      "Epoch 87/100:\n",
      "   Batch (8/8) [==============================] -> loss: 0.5979 - acc: 0.9609                                        \n",
      "Epoch 88/100:\n",
      "   Batch (8/8) [==============================] -> loss: 0.5816 - acc: 0.9766                                        \n",
      "Epoch 89/100:\n",
      "   Batch (8/8) [==============================] -> loss: 0.5948 - acc: 0.9531                                        \n",
      "Epoch 90/100:\n",
      "   Batch (8/8) [==============================] -> loss: 0.5924 - acc: 0.9609                                        \n",
      "Epoch 91/100:\n",
      "   Batch (8/8) [==============================] -> loss: 0.5855 - acc: 0.9688                                        \n",
      "Epoch 92/100:\n",
      "   Batch (8/8) [==============================] -> loss: 0.5950 - acc: 0.9531                                        \n",
      "Epoch 93/100:\n",
      "   Batch (8/8) [==============================] -> loss: 0.5996 - acc: 0.9453                                        \n",
      "Epoch 94/100:\n",
      "   Batch (8/8) [==============================] -> loss: 0.5995 - acc: 0.9453                                        \n",
      "Epoch 95/100:\n",
      "   Batch (8/8) [==============================] -> loss: 0.5789 - acc: 0.9766                                        \n",
      "Epoch 96/100:\n",
      "   Batch (8/8) [==============================] -> loss: 0.5882 - acc: 0.9766                                        \n",
      "Epoch 97/100:\n",
      "   Batch (8/8) [==============================] -> loss: 0.5995 - acc: 0.9609                                        \n",
      "Epoch 98/100:\n",
      "   Batch (8/8) [==============================] -> loss: 0.5786 - acc: 0.9844                                        \n",
      "Epoch 99/100:\n",
      "   Batch (8/8) [==============================] -> loss: 0.5983 - acc: 0.9609                                        \n",
      "Epoch 100/100:\n",
      "   Batch (8/8) [==============================] -> loss: 0.5904 - acc: 0.9688                                        \n",
      "Training completed in Time taken: 4 secs\n"
     ]
    }
   ],
   "source": [
    "# train our model\n",
    "sess = tf.Session()\n",
    "sess.run(tf.global_variables_initializer())\n",
    "\n",
    "# def train_model(sess, model, data, labels, feed_dict=None, num_epochs=10, batch_size=32,\n",
    "#                 validation_split=None, validation_data=None)\n",
    "start_time = time.time()\n",
    "feed_dict_train = {kp:(1.0-0.35)} # just pass in the keep probability placeholders\n",
    "history = tfu.train_model(sess, tf_model, data=X_train, labels=y_train, feed_dict=feed_dict_train, \n",
    "                          num_epochs=epochs, batch_size=batch_size)\n",
    "end_time = time.time()\n",
    "print('Training completed in {}'.format(tfu.time_taken_as_str(start_time, end_time)))"
   ]
  },
  {
   "cell_type": "code",
   "execution_count": 19,
   "metadata": {},
   "outputs": [
    {
     "data": {
      "image/png": "[encoded data removed]",
      "text/plain": [
       "<Figure size 1152x288 with 2 Axes>"
      ]
     },
     "metadata": {
      "needs_background": "light"
     },
     "output_type": "display_data"
    }
   ],
   "source": [
    "tfu.show_plots(history)"
   ]
  },
  {
   "cell_type": "markdown",
   "metadata": {},
   "source": [
    "### Evaluating performance of Tensorflow model\n",
    "Let's evaluate performance of our model on training, cross-validation & test data."
   ]
  },
  {
   "cell_type": "code",
   "execution_count": 20,
   "metadata": {},
   "outputs": [
    {
     "name": "stdout",
     "output_type": "stream",
     "text": [
      "Evaluating performance:\n",
      "  Evaluating : Batch (8/8) [==============================] -> loss: 0.5741 - acc: 0.9844                                        \n",
      "    - Training dataset: loss = 0.5741, accuracy = 0.9844\n",
      "  Evaluating : Batch (2/2) [==============================] -> loss: 0.5816 - acc: 0.9688                                        \n",
      "    - Test dataset: loss = 0.5816, accuracy = 0.9688\n"
     ]
    }
   ],
   "source": [
    "print('Evaluating performance:')\n",
    "feed_dict_eval = {kp:(1.0)} # NO droput during evaluation!!\n",
    "loss, acc = tfu.evaluate_model(sess, tf_model, X_train, y_train, feed_dict=feed_dict_eval, batch_size=batch_size)\n",
    "print('    - Training dataset: loss = {:.4f}, accuracy = {:.4f}'.format(loss, acc))\n",
    "\n",
    "loss, acc = tfu.evaluate_model(sess, tf_model, X_test, y_test, feed_dict=feed_dict_eval, batch_size=batch_size)\n",
    "print('    - Test dataset: loss = {:.4f}, accuracy = {:.4f}'.format(loss, acc))"
   ]
  },
  {
   "cell_type": "markdown",
   "metadata": {},
   "source": [
    "**Observations for Tensorflow Model:**\n",
    "* We get a `training accuracy = 98.4%` and a `test accuracy = ~97%` with this model.\n",
    "* Since the difference between training & cross-validation accuracy is not much, we can conclude the thet model is not overfitting the data."
   ]
  },
  {
   "cell_type": "code",
   "execution_count": 21,
   "metadata": {},
   "outputs": [],
   "source": [
    "# save the model state & close session\n",
    "tfu.save_tf_model(sess, base_file_name=TF_MODEL_NAME, model_path=MODEL_SAVE_DIR)\n",
    "del tf_model\n",
    "sess.close()"
   ]
  },
  {
   "cell_type": "markdown",
   "metadata": {},
   "source": [
    "### Making Predictions with the Tensorflow Model\n",
    "Next we will run predictions with our Tensorflow model & view some random results. \n",
    "\n",
    "NOTE: Model structure (graph) & state (parameters) will be loaded from last saved state."
   ]
  },
  {
   "cell_type": "code",
   "execution_count": 22,
   "metadata": {},
   "outputs": [
    {
     "name": "stdout",
     "output_type": "stream",
     "text": [
      "INFO:tensorflow:Restoring parameters from ./model_states/tf_IRIS_mlp\n",
      "Loaded model\n",
      "{'out': <tf.Tensor 'out:0' shape=(?, 3) dtype=float32>, 'loss': <tf.Tensor 'loss:0' shape=() dtype=float32>, 'train_op': <tf.Operation 'train_op' type=NoOp>, 'correct_prediction': <tf.Tensor 'correct_prediction:0' shape=(?,) dtype=bool>, 'accuracy': <tf.Tensor 'acc:0' shape=() dtype=float32>}\n",
      "Loaded placeholders: X = Tensor(\"X:0\", shape=(?, 4), dtype=float32), y = Tensor(\"y:0\", shape=(?, 3), dtype=float32), kp=Tensor(\"keep_prob:0\", dtype=float32)\n"
     ]
    }
   ],
   "source": [
    "tf.reset_default_graph()\n",
    "sess = tf.Session()\n",
    "tf_model, X, y, kp = load_tf_model(sess, base_file_name=TF_MODEL_NAME, model_path=MODEL_SAVE_DIR)\n",
    "print('Loaded model')\n",
    "print(tf_model)\n",
    "print('Loaded placeholders: X = {}, y = {}, kp={}'.format(X, y, kp), flush=True)"
   ]
  },
  {
   "cell_type": "code",
   "execution_count": 23,
   "metadata": {},
   "outputs": [
    {
     "data": {
      "text/plain": [
       "array([2, 2, 2, 0, 1, 2, 0, 1, 0, 2, 1, 1, 2, 1, 1, 1, 2, 1, 0, 2, 1, 1, 1, 0, 0, 1, 0, 2, 2, 0])"
      ]
     },
     "execution_count": 23,
     "metadata": {},
     "output_type": "execute_result"
    }
   ],
   "source": [
    "# this is the ground truth (reverse one-hot encode of test data)\n",
    "y_true = np.argmax(y_test, axis=1)\n",
    "y_true[:30]"
   ]
  },
  {
   "cell_type": "code",
   "execution_count": 24,
   "metadata": {},
   "outputs": [
    {
     "data": {
      "text/plain": [
       "array([2, 2, 2, 0, 1, 2, 0, 1, 0, 2, 1, 1, 2, 1, 2, 1, 2, 1, 0, 2, 1, 1, 1, 0, 0, 1, 0, 2, 2, 0])"
      ]
     },
     "execution_count": 24,
     "metadata": {},
     "output_type": "execute_result"
    }
   ],
   "source": [
    "feed_dict_eval = {kp:(1.0)} # NO droput during evaluation!!\n",
    "predictions = tfu.predict(sess, tf_model, X_test, feed_dict=feed_dict_eval) # no dropouts when running predictions\n",
    "# reverse one-hot encode the predictions\n",
    "y_pred = np.argmax(predictions, axis=1)\n",
    "y_pred[:30]"
   ]
  },
  {
   "cell_type": "code",
   "execution_count": 25,
   "metadata": {},
   "outputs": [
    {
     "data": {
      "text/plain": [
       "1"
      ]
     },
     "execution_count": 25,
     "metadata": {},
     "output_type": "execute_result"
    }
   ],
   "source": [
    "# how many mismatches\n",
    "(y_pred != y_true).sum()"
   ]
  },
  {
   "cell_type": "code",
   "execution_count": 26,
   "metadata": {},
   "outputs": [],
   "source": [
    "# close the Tensorflow session\n",
    "sess.close()"
   ]
  },
  {
   "cell_type": "markdown",
   "metadata": {},
   "source": [
    "## Keras Implementation\n",
    "In this section, we will develop the same model using the Keras API. You will notice immediately that the code written in this section is much less & much cleaner. Keras takes care of most of the details we covered above."
   ]
  },
  {
   "cell_type": "code",
   "execution_count": 27,
   "metadata": {},
   "outputs": [],
   "source": [
    "import keras.backend as K\n",
    "from keras.models import Sequential\n",
    "from keras.layers import Dense, Dropout\n",
    "from keras import optimizers\n",
    "import kr_helper_funcs as kru\n",
    "\n",
    "# clear the Tensorflow backend to get rid of any spurious graphs\n",
    "K.clear_session()"
   ]
  },
  {
   "cell_type": "code",
   "execution_count": 28,
   "metadata": {},
   "outputs": [],
   "source": [
    "def build_keras_model(layer_dims):\n",
    "    model = Sequential()\n",
    "    model.add(Dense(layer_dims[1], activation='relu', input_shape=(layer_dims[0],)))\n",
    "    model.add(Dropout(0.35))\n",
    "    model.add(Dense(layer_dims[2], activation='relu'))\n",
    "    model.add(Dropout(0.35))\n",
    "    # output is softmax\n",
    "    model.add(Dense(layer_dims[3], activation='softmax'))\n",
    "    adam = optimizers.Adam(lr=0.001)\n",
    "    model.compile(optimizer=adam, loss='categorical_crossentropy', metrics=['acc'])\n",
    "    return model"
   ]
  },
  {
   "cell_type": "code",
   "execution_count": 29,
   "metadata": {},
   "outputs": [
    {
     "name": "stdout",
     "output_type": "stream",
     "text": [
      "_________________________________________________________________\n",
      "Layer (type)                 Output Shape              Param #   \n",
      "=================================================================\n",
      "dense_1 (Dense)              (None, 64)                320       \n",
      "_________________________________________________________________\n",
      "dropout_1 (Dropout)          (None, 64)                0         \n",
      "_________________________________________________________________\n",
      "dense_2 (Dense)              (None, 64)                4160      \n",
      "_________________________________________________________________\n",
      "dropout_2 (Dropout)          (None, 64)                0         \n",
      "_________________________________________________________________\n",
      "dense_3 (Dense)              (None, 3)                 195       \n",
      "=================================================================\n",
      "Total params: 4,675\n",
      "Trainable params: 4,675\n",
      "Non-trainable params: 0\n",
      "_________________________________________________________________\n",
      "None\n"
     ]
    }
   ],
   "source": [
    "kr_model = build_keras_model(layer_dims)\n",
    "print(kr_model.summary())"
   ]
  },
  {
   "cell_type": "code",
   "execution_count": 30,
   "metadata": {},
   "outputs": [
    {
     "name": "stdout",
     "output_type": "stream",
     "text": [
      "Epoch 1/100\n",
      "120/120 [==============================] - 0s 3ms/step - loss: 1.0810 - acc: 0.3750\n",
      "Epoch 2/100\n",
      "120/120 [==============================] - 0s 244us/step - loss: 0.9144 - acc: 0.6000\n",
      "Epoch 3/100\n",
      "120/120 [==============================] - 0s 221us/step - loss: 0.7761 - acc: 0.7667\n",
      "Epoch 4/100\n",
      "120/120 [==============================] - 0s 230us/step - loss: 0.6782 - acc: 0.7833\n",
      "Epoch 5/100\n",
      "120/120 [==============================] - 0s 225us/step - loss: 0.6057 - acc: 0.8167\n",
      "Epoch 6/100\n",
      "120/120 [==============================] - 0s 188us/step - loss: 0.5528 - acc: 0.7833\n",
      "Epoch 7/100\n",
      "120/120 [==============================] - 0s 158us/step - loss: 0.4893 - acc: 0.8083\n",
      "Epoch 8/100\n",
      "120/120 [==============================] - 0s 146us/step - loss: 0.4477 - acc: 0.8250\n",
      "Epoch 9/100\n",
      "120/120 [==============================] - 0s 160us/step - loss: 0.4118 - acc: 0.8250\n",
      "Epoch 10/100\n",
      "120/120 [==============================] - 0s 152us/step - loss: 0.3852 - acc: 0.8250\n",
      "Epoch 11/100\n",
      "120/120 [==============================] - 0s 263us/step - loss: 0.3729 - acc: 0.8333\n",
      "Epoch 12/100\n",
      "120/120 [==============================] - 0s 208us/step - loss: 0.3492 - acc: 0.8583\n",
      "Epoch 13/100\n",
      "120/120 [==============================] - 0s 249us/step - loss: 0.3410 - acc: 0.8500\n",
      "Epoch 14/100\n",
      "120/120 [==============================] - 0s 221us/step - loss: 0.3092 - acc: 0.8333\n",
      "Epoch 15/100\n",
      "120/120 [==============================] - 0s 163us/step - loss: 0.2956 - acc: 0.8833\n",
      "Epoch 16/100\n",
      "120/120 [==============================] - 0s 179us/step - loss: 0.3458 - acc: 0.8417\n",
      "Epoch 17/100\n",
      "120/120 [==============================] - 0s 195us/step - loss: 0.2909 - acc: 0.8750\n",
      "Epoch 18/100\n",
      "120/120 [==============================] - 0s 211us/step - loss: 0.3323 - acc: 0.8167\n",
      "Epoch 19/100\n",
      "120/120 [==============================] - 0s 228us/step - loss: 0.2982 - acc: 0.8750\n",
      "Epoch 20/100\n",
      "120/120 [==============================] - 0s 202us/step - loss: 0.2616 - acc: 0.9083\n",
      "Epoch 21/100\n",
      "120/120 [==============================] - 0s 177us/step - loss: 0.2717 - acc: 0.8667\n",
      "Epoch 22/100\n",
      "120/120 [==============================] - 0s 244us/step - loss: 0.2764 - acc: 0.8667\n",
      "Epoch 23/100\n",
      "120/120 [==============================] - 0s 220us/step - loss: 0.2580 - acc: 0.9167\n",
      "Epoch 24/100\n",
      "120/120 [==============================] - 0s 200us/step - loss: 0.2462 - acc: 0.9083\n",
      "Epoch 25/100\n",
      "120/120 [==============================] - 0s 250us/step - loss: 0.2499 - acc: 0.8833\n",
      "Epoch 26/100\n",
      "120/120 [==============================] - 0s 200us/step - loss: 0.2568 - acc: 0.9083\n",
      "Epoch 27/100\n",
      "120/120 [==============================] - 0s 196us/step - loss: 0.2340 - acc: 0.9250\n",
      "Epoch 28/100\n",
      "120/120 [==============================] - 0s 174us/step - loss: 0.2124 - acc: 0.8917\n",
      "Epoch 29/100\n",
      "120/120 [==============================] - 0s 166us/step - loss: 0.2336 - acc: 0.9500\n",
      "Epoch 30/100\n",
      "120/120 [==============================] - 0s 240us/step - loss: 0.2370 - acc: 0.9250\n",
      "Epoch 31/100\n",
      "120/120 [==============================] - 0s 246us/step - loss: 0.2412 - acc: 0.9000\n",
      "Epoch 32/100\n",
      "120/120 [==============================] - 0s 191us/step - loss: 0.2279 - acc: 0.8833\n",
      "Epoch 33/100\n",
      "120/120 [==============================] - 0s 191us/step - loss: 0.2493 - acc: 0.9083\n",
      "Epoch 34/100\n",
      "120/120 [==============================] - 0s 246us/step - loss: 0.2049 - acc: 0.9167\n",
      "Epoch 35/100\n",
      "120/120 [==============================] - 0s 181us/step - loss: 0.1756 - acc: 0.9500\n",
      "Epoch 36/100\n",
      "120/120 [==============================] - 0s 270us/step - loss: 0.2169 - acc: 0.9167\n",
      "Epoch 37/100\n",
      "120/120 [==============================] - 0s 178us/step - loss: 0.1462 - acc: 0.9667\n",
      "Epoch 38/100\n",
      "120/120 [==============================] - 0s 213us/step - loss: 0.1887 - acc: 0.9250\n",
      "Epoch 39/100\n",
      "120/120 [==============================] - 0s 210us/step - loss: 0.1668 - acc: 0.9333\n",
      "Epoch 40/100\n",
      "120/120 [==============================] - 0s 240us/step - loss: 0.1427 - acc: 0.9583\n",
      "Epoch 41/100\n",
      "120/120 [==============================] - 0s 150us/step - loss: 0.1643 - acc: 0.9583\n",
      "Epoch 42/100\n",
      "120/120 [==============================] - 0s 168us/step - loss: 0.1620 - acc: 0.9250\n",
      "Epoch 43/100\n",
      "120/120 [==============================] - 0s 197us/step - loss: 0.1478 - acc: 0.9333\n",
      "Epoch 44/100\n",
      "120/120 [==============================] - 0s 140us/step - loss: 0.1575 - acc: 0.9333\n",
      "Epoch 45/100\n",
      "120/120 [==============================] - 0s 235us/step - loss: 0.1497 - acc: 0.9333\n",
      "Epoch 46/100\n",
      "120/120 [==============================] - 0s 141us/step - loss: 0.1356 - acc: 0.9583\n",
      "Epoch 47/100\n",
      "120/120 [==============================] - 0s 176us/step - loss: 0.1220 - acc: 0.9667\n",
      "Epoch 48/100\n",
      "120/120 [==============================] - 0s 147us/step - loss: 0.1139 - acc: 0.9500\n",
      "Epoch 49/100\n",
      "120/120 [==============================] - 0s 224us/step - loss: 0.1350 - acc: 0.9500\n",
      "Epoch 50/100\n",
      "120/120 [==============================] - 0s 203us/step - loss: 0.1638 - acc: 0.9417\n",
      "Epoch 51/100\n",
      "120/120 [==============================] - 0s 172us/step - loss: 0.1218 - acc: 0.9667\n",
      "Epoch 52/100\n",
      "120/120 [==============================] - 0s 157us/step - loss: 0.0969 - acc: 0.9750\n",
      "Epoch 53/100\n",
      "120/120 [==============================] - 0s 152us/step - loss: 0.1239 - acc: 0.9500\n",
      "Epoch 54/100\n",
      "120/120 [==============================] - 0s 172us/step - loss: 0.1306 - acc: 0.9500\n",
      "Epoch 55/100\n",
      "120/120 [==============================] - 0s 208us/step - loss: 0.1124 - acc: 0.9833\n",
      "Epoch 56/100\n",
      "120/120 [==============================] - 0s 221us/step - loss: 0.0877 - acc: 0.9667\n",
      "Epoch 57/100\n",
      "120/120 [==============================] - 0s 195us/step - loss: 0.1353 - acc: 0.9583\n",
      "Epoch 58/100\n",
      "120/120 [==============================] - 0s 196us/step - loss: 0.1541 - acc: 0.9333\n",
      "Epoch 59/100\n",
      "120/120 [==============================] - 0s 170us/step - loss: 0.1296 - acc: 0.9667\n",
      "Epoch 60/100\n",
      "120/120 [==============================] - 0s 150us/step - loss: 0.1104 - acc: 0.9500\n",
      "Epoch 61/100\n",
      "120/120 [==============================] - 0s 199us/step - loss: 0.1210 - acc: 0.9583\n",
      "Epoch 62/100\n",
      "120/120 [==============================] - 0s 197us/step - loss: 0.1379 - acc: 0.9667\n",
      "Epoch 63/100\n",
      "120/120 [==============================] - 0s 221us/step - loss: 0.1255 - acc: 0.9500\n",
      "Epoch 64/100\n",
      "120/120 [==============================] - 0s 197us/step - loss: 0.0936 - acc: 0.9500\n",
      "Epoch 65/100\n",
      "120/120 [==============================] - 0s 235us/step - loss: 0.0842 - acc: 0.9833\n",
      "Epoch 66/100\n",
      "120/120 [==============================] - 0s 160us/step - loss: 0.0885 - acc: 0.9667\n",
      "Epoch 67/100\n",
      "120/120 [==============================] - 0s 181us/step - loss: 0.0816 - acc: 0.9667\n",
      "Epoch 68/100\n",
      "120/120 [==============================] - 0s 187us/step - loss: 0.0975 - acc: 0.9750\n",
      "Epoch 69/100\n",
      "120/120 [==============================] - 0s 168us/step - loss: 0.0946 - acc: 0.9583\n",
      "Epoch 70/100\n",
      "120/120 [==============================] - 0s 207us/step - loss: 0.0794 - acc: 0.9667\n",
      "Epoch 71/100\n",
      "120/120 [==============================] - 0s 274us/step - loss: 0.0883 - acc: 0.9583\n",
      "Epoch 72/100\n",
      "120/120 [==============================] - 0s 186us/step - loss: 0.0762 - acc: 0.9583\n",
      "Epoch 73/100\n",
      "120/120 [==============================] - 0s 218us/step - loss: 0.0528 - acc: 0.9917\n",
      "Epoch 74/100\n",
      "120/120 [==============================] - 0s 218us/step - loss: 0.1085 - acc: 0.9750\n",
      "Epoch 75/100\n",
      "120/120 [==============================] - 0s 251us/step - loss: 0.0661 - acc: 0.9833\n",
      "Epoch 76/100\n",
      "120/120 [==============================] - 0s 237us/step - loss: 0.0877 - acc: 0.9750\n",
      "Epoch 77/100\n",
      "120/120 [==============================] - 0s 190us/step - loss: 0.1012 - acc: 0.9667\n",
      "Epoch 78/100\n",
      "120/120 [==============================] - 0s 208us/step - loss: 0.0993 - acc: 0.9750\n",
      "Epoch 79/100\n",
      "120/120 [==============================] - 0s 234us/step - loss: 0.1062 - acc: 0.9583\n",
      "Epoch 80/100\n",
      "120/120 [==============================] - 0s 196us/step - loss: 0.0865 - acc: 0.9667\n",
      "Epoch 81/100\n",
      "120/120 [==============================] - 0s 239us/step - loss: 0.1089 - acc: 0.9583\n",
      "Epoch 82/100\n",
      "120/120 [==============================] - 0s 200us/step - loss: 0.0804 - acc: 0.9667\n",
      "Epoch 83/100\n",
      "120/120 [==============================] - 0s 163us/step - loss: 0.0835 - acc: 0.9667\n",
      "Epoch 84/100\n",
      "120/120 [==============================] - 0s 201us/step - loss: 0.1033 - acc: 0.9500\n",
      "Epoch 85/100\n",
      "120/120 [==============================] - 0s 218us/step - loss: 0.0620 - acc: 0.9667\n",
      "Epoch 86/100\n",
      "120/120 [==============================] - 0s 265us/step - loss: 0.0661 - acc: 0.9833\n",
      "Epoch 87/100\n",
      "120/120 [==============================] - 0s 253us/step - loss: 0.0858 - acc: 0.9667\n",
      "Epoch 88/100\n",
      "120/120 [==============================] - 0s 247us/step - loss: 0.0917 - acc: 0.9417\n",
      "Epoch 89/100\n",
      "120/120 [==============================] - 0s 224us/step - loss: 0.0659 - acc: 0.9750\n",
      "Epoch 90/100\n",
      "120/120 [==============================] - 0s 255us/step - loss: 0.0865 - acc: 0.9500\n",
      "Epoch 91/100\n",
      "120/120 [==============================] - 0s 168us/step - loss: 0.0788 - acc: 0.9667\n",
      "Epoch 92/100\n",
      "120/120 [==============================] - 0s 166us/step - loss: 0.0816 - acc: 0.9667\n",
      "Epoch 93/100\n",
      "120/120 [==============================] - 0s 220us/step - loss: 0.0922 - acc: 0.9667\n",
      "Epoch 94/100\n",
      "120/120 [==============================] - 0s 182us/step - loss: 0.0656 - acc: 0.9750\n",
      "Epoch 95/100\n",
      "120/120 [==============================] - 0s 159us/step - loss: 0.1112 - acc: 0.9667\n",
      "Epoch 96/100\n",
      "120/120 [==============================] - 0s 156us/step - loss: 0.0804 - acc: 0.9667\n",
      "Epoch 97/100\n",
      "120/120 [==============================] - 0s 176us/step - loss: 0.0542 - acc: 0.9750\n",
      "Epoch 98/100\n",
      "120/120 [==============================] - 0s 156us/step - loss: 0.0742 - acc: 0.9750\n",
      "Epoch 99/100\n",
      "120/120 [==============================] - 0s 174us/step - loss: 0.0793 - acc: 0.9750\n",
      "Epoch 100/100\n",
      "120/120 [==============================] - 0s 220us/step - loss: 0.0841 - acc: 0.9583\n"
     ]
    }
   ],
   "source": [
    "# train the model\n",
    "history = kr_model.fit(X_train, y_train, epochs=epochs, batch_size=batch_size)"
   ]
  },
  {
   "cell_type": "code",
   "execution_count": 31,
   "metadata": {},
   "outputs": [
    {
     "data": {
      "image/png": "[encoded data removed]",
      "text/plain": [
       "<Figure size 1152x288 with 2 Axes>"
      ]
     },
     "metadata": {
      "needs_background": "light"
     },
     "output_type": "display_data"
    }
   ],
   "source": [
    "# display plots of loss & accuracies\n",
    "kru.show_plots(history.history)"
   ]
  },
  {
   "cell_type": "code",
   "execution_count": 32,
   "metadata": {},
   "outputs": [
    {
     "name": "stdout",
     "output_type": "stream",
     "text": [
      "Evaluating performance of Keras model:\n",
      "120/120 [==============================] - 0s 535us/step\n",
      " - Training dataset: loss = 0.0502, accuracy = 0.9750\n",
      "30/30 [==============================] - 0s 108us/step\n",
      " - Test dataset: loss = 0.0537, accuracy = 0.9667\n"
     ]
    }
   ],
   "source": [
    "# evaluate performance against train/cross-val & test data\n",
    "print('Evaluating performance of Keras model:')\n",
    "loss, acc = kr_model.evaluate(X_train, y_train, batch_size=batch_size)\n",
    "print(' - Training dataset: loss = {:.4f}, accuracy = {:.4f}'.format(loss, acc))\n",
    "\n",
    "loss, acc = kr_model.evaluate(X_test, y_test, batch_size=batch_size)\n",
    "print(' - Test dataset: loss = {:.4f}, accuracy = {:.4f}'.format(loss, acc))"
   ]
  },
  {
   "cell_type": "markdown",
   "metadata": {},
   "source": [
    "**Observations for Keras Model:**\n",
    "* We get a `training accuracy = 98.3 %` and a `test accuracy = ~97%` with this model. **These are similar to Tensorflow model performance! **\n",
    "* Since the difference between training & cross-validation accuracy is not much, we can conclude the thet model is not overfitting the data.\n",
    "\n",
    "### Making Predictions with the Keras Model\n",
    "Next we will run predictions with our Tensorflow model & view some random results."
   ]
  },
  {
   "cell_type": "code",
   "execution_count": 33,
   "metadata": {},
   "outputs": [
    {
     "data": {
      "text/plain": [
       "array([2, 2, 2, 0, 1, 2, 0, 1, 0, 2, 1, 1, 2, 1, 1, 1, 2, 1, 0, 2, 1, 1, 1, 0, 0, 1, 0, 2, 2, 0])"
      ]
     },
     "execution_count": 33,
     "metadata": {},
     "output_type": "execute_result"
    }
   ],
   "source": [
    "# this is the ground truth (reverse one-hot encode of test data)\n",
    "y_true = np.argmax(y_test, axis=1)\n",
    "y_true[:30]"
   ]
  },
  {
   "cell_type": "code",
   "execution_count": 34,
   "metadata": {},
   "outputs": [
    {
     "data": {
      "text/plain": [
       "array([2, 2, 2, 0, 1, 2, 0, 1, 0, 2, 1, 1, 2, 1, 2, 1, 2, 1, 0, 2, 1, 1, 1, 0, 0, 1, 0, 2, 2, 0])"
      ]
     },
     "execution_count": 34,
     "metadata": {},
     "output_type": "execute_result"
    }
   ],
   "source": [
    "predictions = kr_model.predict(X_test)\n",
    "# reverse one-hot encode the predictions\n",
    "y_pred = np.argmax(predictions, axis=1)\n",
    "y_pred[:30]"
   ]
  },
  {
   "cell_type": "code",
   "execution_count": 35,
   "metadata": {},
   "outputs": [
    {
     "data": {
      "text/plain": [
       "1"
      ]
     },
     "execution_count": 35,
     "metadata": {},
     "output_type": "execute_result"
    }
   ],
   "source": [
    "# no of mismatches\n",
    "(y_pred != y_true).sum()"
   ]
  },
  {
   "cell_type": "markdown",
   "metadata": {},
   "source": [
    "# <center> -- END -- </center>"
   ]
  }
 ],
 "metadata": {
  "kernelspec": {
   "display_name": "Python 3",
   "language": "python",
   "name": "python3"
  },
  "language_info": {
   "codemirror_mode": {
    "name": "ipython",
    "version": 3
   },
   "file_extension": ".py",
   "mimetype": "text/x-python",
   "name": "python",
   "nbconvert_exporter": "python",
   "pygments_lexer": "ipython3",
   "version": "3.7.2"
  }
 },
 "nbformat": 4,
 "nbformat_minor": 2
}
